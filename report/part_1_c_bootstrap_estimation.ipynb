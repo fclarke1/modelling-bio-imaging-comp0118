{
 "cells": [
  {
   "cell_type": "code",
   "execution_count": 7,
   "metadata": {},
   "outputs": [
    {
     "name": "stdout",
     "output_type": "stream",
     "text": [
      "The autoreload extension is already loaded. To reload it, use:\n",
      "  %reload_ext autoreload\n"
     ]
    }
   ],
   "source": [
    "%load_ext autoreload\n",
    "%autoreload 2"
   ]
  },
  {
   "cell_type": "code",
   "execution_count": 8,
   "metadata": {},
   "outputs": [],
   "source": [
    "import numpy as np\n",
    "from numpy.typing import NDArray\n",
    "import matplotlib.pyplot as plt\n",
    "import utils_fc as utils\n",
    "from scipy.optimize import minimize\n",
    "from scipy import stats\n",
    "from tqdm import tqdm"
   ]
  },
  {
   "cell_type": "code",
   "execution_count": 9,
   "metadata": {},
   "outputs": [],
   "source": [
    "subject_id_default = 13620\n",
    "dataloader = utils.MRIDataLoader()\n",
    "TE_times = dataloader.get_TE_times()\n",
    "roi_dict, roi_id_dict = dataloader.get_roi_dicts()\n",
    "info_dict = dataloader.get_info_dict()\n",
    "thresh_default = 0.9\n",
    "subject_ids = dataloader.get_subject_ids()\n",
    "is_pre_term = dataloader.get_info(1) < 26\n",
    "pre_term_ids = np.arange(subject_ids.shape[0])[is_pre_term]\n",
    "full_term_ids = np.arange(subject_ids.shape[0])[~is_pre_term]\n",
    "root_path = 'data/arrays/'"
   ]
  },
  {
   "cell_type": "markdown",
   "metadata": {},
   "source": [
    "### Get estimate on T2 for WM, GM, CSF using Bootstrap on only Full Term subjects"
   ]
  },
  {
   "cell_type": "markdown",
   "metadata": {},
   "source": [
    "nb_sample = 100\n",
    "nb_bootstrap\n",
    "\n"
   ]
  },
  {
   "cell_type": "code",
   "execution_count": 89,
   "metadata": {},
   "outputs": [
    {
     "name": "stdout",
     "output_type": "stream",
     "text": [
      "No File exists - Creating Data...\n"
     ]
    },
    {
     "name": "stderr",
     "output_type": "stream",
     "text": [
      "100%|##########| 50/50 [03:45<00:00,  4.50s/it]\n"
     ]
    }
   ],
   "source": [
    "roi_data_full, roi_seg_full = dataloader.load_all_roi_thresh_mono_data(thresh_default, subject_names='fullterm')"
   ]
  },
  {
   "cell_type": "code",
   "execution_count": 91,
   "metadata": {},
   "outputs": [
    {
     "name": "stdout",
     "output_type": "stream",
     "text": [
      "Calculating WM...\n"
     ]
    },
    {
     "name": "stderr",
     "output_type": "stream",
     "text": [
      "100%|##########| 300/300 [05:13<00:00,  1.05s/it]\n"
     ]
    },
    {
     "name": "stdout",
     "output_type": "stream",
     "text": [
      "Calculating GM...\n"
     ]
    },
    {
     "name": "stderr",
     "output_type": "stream",
     "text": [
      "100%|##########| 300/300 [06:21<00:00,  1.27s/it]\n"
     ]
    },
    {
     "name": "stdout",
     "output_type": "stream",
     "text": [
      "Calculating CSF...\n"
     ]
    },
    {
     "name": "stderr",
     "output_type": "stream",
     "text": [
      "100%|##########| 300/300 [05:22<00:00,  1.08s/it]\n"
     ]
    }
   ],
   "source": [
    "nb_sample = 100\n",
    "nb_bootstrap = 300\n",
    "\n",
    "rois = ['WM', 'GM', 'CSF']\n",
    "roi_bounds =   {'WM':   [(2000, 15000), (20, 120),  (20,2000)],\n",
    "                'GM':   [(2000, 15000), (20, 120),  (20,2000)],\n",
    "                'CSF':  [(2000, 15000), (50, 2000), (20,2000)]}\n",
    "roi_T2_2 = {}\n",
    "rmse_2 = {}\n",
    "x0 = np.array([5000, 50, 60])\n",
    "for roi in rois:\n",
    "    print(f'Calculating {roi}...')\n",
    "    roi_T2_2[roi] = []\n",
    "    rmse_2[roi] = []\n",
    "    roi_id = roi_dict[roi]\n",
    "    nb_roi = roi_data_full[roi_id].shape[0]\n",
    "    for bootstrap_id in tqdm(range(nb_bootstrap), ascii=True):\n",
    "        sample_ids = np.random.randint(low=0, high=nb_roi, size=nb_sample)\n",
    "        data = roi_data_full[roi_id][sample_ids,:]\n",
    "        seg = roi_seg_full[roi_id][sample_ids,:]\n",
    "        \n",
    "        X0 = np.tile(x0, reps=nb_sample).reshape(nb_sample, -1)\n",
    "        args_TE = np.tile(TE_times, reps=nb_sample).reshape(nb_sample, -1)\n",
    "        \n",
    "        v0 = seg[:,1:].max(axis=-1)\n",
    "        v0 = np.where(v0 < 0.5, 0.5, v0)\n",
    "        v = np.stack([v0, 1-v0], axis=-1)\n",
    "        \n",
    "        args = [data[:,1:], args_TE[:,1:], v]   # remove the first TE=13 signal\n",
    "        bounds = roi_bounds[roi]\n",
    "        \n",
    "        problem_two_compartment = utils.create_problem_to_minimize('two_compartment', bounds=bounds)\n",
    "        S0, T2_0, T2_1 = utils.minimize_given_problem(problem=problem_two_compartment, X0=X0, args_list=args, is_print_progress=False)\n",
    "        T2 = np.array([T2_0.mean(), T2_1.mean()])\n",
    "        roi_T2_2[roi].append(T2)\n",
    "        \n",
    "        signal_est = utils.model_multi_compartment(np.stack([T2_0, T2_1], axis=-1), S0, TE_times, v)\n",
    "        rmse = utils.RMSE(data, signal_est, dim=-1).sum() / nb_sample\n",
    "        rmse_2[roi].append(rmse)\n",
    "    roi_T2_2[roi] = np.stack(roi_T2_2[roi], axis=0)\n",
    "    rmse_2[roi] = np.array(rmse_2[roi])"
   ]
  },
  {
   "cell_type": "markdown",
   "metadata": {},
   "source": [
    "### Now do it on pre-term"
   ]
  },
  {
   "cell_type": "code",
   "execution_count": 92,
   "metadata": {},
   "outputs": [
    {
     "name": "stdout",
     "output_type": "stream",
     "text": [
      "No File exists - Creating Data...\n"
     ]
    },
    {
     "name": "stderr",
     "output_type": "stream",
     "text": [
      "100%|##########| 85/85 [04:26<00:00,  3.13s/it]\n"
     ]
    }
   ],
   "source": [
    "roi_data_pre, roi_seg_pre = dataloader.load_all_roi_thresh_mono_data(thresh_default, subject_names='preterm')"
   ]
  },
  {
   "cell_type": "code",
   "execution_count": 93,
   "metadata": {},
   "outputs": [
    {
     "name": "stdout",
     "output_type": "stream",
     "text": [
      "Calculating WM...\n"
     ]
    },
    {
     "name": "stderr",
     "output_type": "stream",
     "text": [
      "100%|##########| 300/300 [05:11<00:00,  1.04s/it]\n"
     ]
    },
    {
     "name": "stdout",
     "output_type": "stream",
     "text": [
      "Calculating GM...\n"
     ]
    },
    {
     "name": "stderr",
     "output_type": "stream",
     "text": [
      "100%|##########| 300/300 [06:36<00:00,  1.32s/it]\n"
     ]
    },
    {
     "name": "stdout",
     "output_type": "stream",
     "text": [
      "Calculating CSF...\n"
     ]
    },
    {
     "name": "stderr",
     "output_type": "stream",
     "text": [
      "100%|##########| 300/300 [05:52<00:00,  1.18s/it]\n"
     ]
    }
   ],
   "source": [
    "nb_sample = 100\n",
    "nb_bootstrap = 300\n",
    "\n",
    "rois = ['WM', 'GM', 'CSF']\n",
    "roi_bounds = {'WM': [(2000, 15000), (20, 100), (20,2000)],\n",
    "          'GM': [(2000, 15000), (20, 100), (20,2000)],\n",
    "          'CSF': [(2000, 15000), (50, 2000), (20,2000)]}\n",
    "roi_T2_2_pre = {}\n",
    "rmse_2_pre = {}\n",
    "x0 = np.array([5000, 50, 60])\n",
    "for roi in rois:\n",
    "    print(f'Calculating {roi}...')\n",
    "    roi_T2_2_pre[roi] = []\n",
    "    rmse_2_pre[roi] = []\n",
    "    roi_id = roi_dict[roi]\n",
    "    nb_roi = roi_data_pre[roi_id].shape[0]\n",
    "    for bootstrap_id in tqdm(range(nb_bootstrap), ascii=True):\n",
    "        sample_ids = np.random.randint(low=0, high=nb_roi, size=nb_sample)\n",
    "        data = roi_data_pre[roi_id][sample_ids,:]\n",
    "        seg = roi_seg_pre[roi_id][sample_ids,:]\n",
    "        \n",
    "        X0 = np.tile(x0, reps=nb_sample).reshape(nb_sample, -1)\n",
    "        args_TE = np.tile(TE_times, reps=nb_sample).reshape(nb_sample, -1)\n",
    "        \n",
    "        v0 = seg[:,1:].max(axis=-1)\n",
    "        v0 = np.where(v0 < 0.5, 0.5, v0)\n",
    "        v = np.stack([v0, 1-v0], axis=-1)\n",
    "        \n",
    "        args = [data[:,1:], args_TE[:,1:], v]\n",
    "        bounds = roi_bounds[roi]\n",
    "        \n",
    "        problem_two_compartment = utils.create_problem_to_minimize('two_compartment', bounds=bounds)\n",
    "        S0, T2_0, T2_1 = utils.minimize_given_problem(problem=problem_two_compartment, X0=X0, args_list=args, is_print_progress=False)\n",
    "        T2 = np.array([T2_0.mean(), T2_1.mean()])\n",
    "        roi_T2_2_pre[roi].append(T2)\n",
    "        \n",
    "        signal_est = utils.model_multi_compartment(np.stack([T2_0, T2_1], axis=-1), S0, TE_times, v)\n",
    "        rmse = utils.RMSE(data, signal_est, dim=-1).sum() / nb_sample\n",
    "        rmse_2_pre[roi].append(rmse)\n",
    "    roi_T2_2_pre[roi] = np.stack(roi_T2_2_pre[roi], axis=0)\n",
    "    rmse_2_pre[roi] = np.array(rmse_2_pre[roi])"
   ]
  },
  {
   "cell_type": "code",
   "execution_count": 94,
   "metadata": {},
   "outputs": [
    {
     "name": "stderr",
     "output_type": "stream",
     "text": [
      "C:\\Users\\fl_cl\\AppData\\Local\\Temp\\ipykernel_22104\\598702102.py:47: UserWarning: Matplotlib is currently using module://matplotlib_inline.backend_inline, which is a non-GUI backend, so cannot show the figure.\n",
      "  fig.show()\n"
     ]
    },
    {
     "data": {
      "image/png": "[encoded data removed]",
      "text/plain": [
       "<Figure size 800x500 with 9 Axes>"
      ]
     },
     "metadata": {},
     "output_type": "display_data"
    }
   ],
   "source": [
    "fig, axs = plt.subplots(3, len(rois), figsize=(8, 5))\n",
    "col_interval = 'gray'\n",
    "area_alpha = 0.35\n",
    "col_pre = 'orange'\n",
    "col_full = 'blue'\n",
    "for col, roi in enumerate(rois):\n",
    "    roi_id = roi_dict[roi]\n",
    "    T2_full = roi_T2_2[roi]\n",
    "    T2_pre = roi_T2_2_pre[roi]\n",
    "    upper_lower_pre = np.percentile(T2_pre[:,0], [2.5, 97.5])\n",
    "    upper_lower_full = np.percentile(T2_full[:,0], [2.5, 97.5])\n",
    "    \n",
    "    if col==0:\n",
    "        axs[0, col].hist(T2_full[:,0], color=col_full, label='Fullterm', alpha=0.5)\n",
    "        axs[0,col].set_title(f'{roi} - Fullterm')\n",
    "        axs[0,col].set_ylabel(f'Count')\n",
    "        \n",
    "        axs[1, col].hist(T2_pre[:,0], color=col_pre, label='Preterm', alpha=0.5)\n",
    "        axs[1,col].set_title(f'{roi} - Preterm')\n",
    "        axs[1,col].set_ylabel(f'Count')\n",
    "        \n",
    "        axs[2,col].set_ylabel(f'Density')\n",
    "        \n",
    "        axs[0,col].axvspan(xmin=upper_lower_full[0], xmax=upper_lower_full[1], color=col_interval, alpha=area_alpha, linestyle='--', label='95% Confidence Interval')\n",
    "        axs[1,col].axvspan(xmin=upper_lower_pre[0], xmax=upper_lower_pre[1], color=col_interval, alpha=area_alpha, linestyle='--', label='_95% Confidence Interval')\n",
    "    else:\n",
    "        axs[0, col].hist(T2_full[:,0], color=col_full, label='_Fullterm', alpha=0.5)\n",
    "        axs[0,col].set_title(f'{roi} - Fullterm')\n",
    "        \n",
    "        axs[1, col].hist(T2_pre[:,0], color=col_pre, label='_Preterm', alpha=0.5)\n",
    "        axs[1,col].set_title(f'{roi} - Preterm')\n",
    "        \n",
    "        axs[0,col].axvspan(xmin=upper_lower_full[0], xmax=upper_lower_full[1], color=col_interval, alpha=area_alpha, linestyle='--', label='_95% Confidence Interval')\n",
    "        axs[1,col].axvspan(xmin=upper_lower_pre[0], xmax=upper_lower_pre[1], color=col_interval, alpha=area_alpha, linestyle='--', label='_95% Confidence Interval')\n",
    "    \n",
    "    axs[2,col].hist(T2_pre[:,0], color=col_pre, label='_Preterm', alpha=0.5, density=True)\n",
    "    axs[2,col].hist(T2_full[:,0], color=col_full, label='_Fullterm', alpha=0.5, density=True)\n",
    "    axs[2,col].set_title(f'{roi} - Pre vs Fullterm')\n",
    "\n",
    "for col in range(len(rois)):\n",
    "    axs[2, col].set_xlabel('T2')\n",
    "    \n",
    "fig.tight_layout()\n",
    "fig.legend()\n",
    "fig.suptitle('Mean Tissue Type T2\\nFullterm vs Preterm\\n')\n",
    "fig.tight_layout()\n",
    "fig.show()"
   ]
  },
  {
   "cell_type": "code",
   "execution_count": 101,
   "metadata": {},
   "outputs": [
    {
     "name": "stdout",
     "output_type": "stream",
     "text": [
      "Full Term\n",
      "WM  : median:  65.9, interval: ( 64.0,  68.2)\n",
      "GM  : median:  74.5, interval: ( 71.7,  77.4)\n",
      "CSF : median: 170.7, interval: (124.0, 236.5)\n",
      "\n",
      "Pre Term\n",
      "WM  : median:  66.3, interval: ( 64.3,  68.5)\n",
      "GM  : median:  73.9, interval: ( 71.1,  76.3)\n",
      "CSF : median: 303.1, interval: (217.0, 404.3)\n"
     ]
    }
   ],
   "source": [
    "print('Full Term')\n",
    "for roi_id, roi in enumerate(rois):\n",
    "    T2_full = roi_T2_2[roi][:,0]\n",
    "    percentiles = np.percentile(T2_full, [2.5, 50, 97.5])\n",
    "    print(f'{roi:<4}: median: {percentiles[1]:5.1f}, interval: ({percentiles[0]:5.1f}, {percentiles[2]:5.1f})')\n",
    "    \n",
    "print('\\nPre Term')\n",
    "for roi_id, roi in enumerate(rois):\n",
    "    T2_pre = roi_T2_2_pre[roi][:,0]\n",
    "    percentiles = np.percentile(T2_pre, [2.5, 50, 97.5])\n",
    "    print(f'{roi:<4}: median: {percentiles[1]:5.1f}, interval: ({percentiles[0]:5.1f}, {percentiles[2]:5.1f})')"
   ]
  }
 ],
 "metadata": {
  "kernelspec": {
   "display_name": "Python 3 (ipykernel)",
   "language": "python",
   "name": "python3"
  },
  "language_info": {
   "codemirror_mode": {
    "name": "ipython",
    "version": 3
   },
   "file_extension": ".py",
   "mimetype": "text/x-python",
   "name": "python",
   "nbconvert_exporter": "python",
   "pygments_lexer": "ipython3",
   "version": "3.10.2"
  },
  "vscode": {
   "interpreter": {
    "hash": "9175f14313f4b35742ea6c52a4ce22cd1fcfedf80e7f8b431e13de372660966e"
   }
  }
 },
 "nbformat": 4,
 "nbformat_minor": 2
}
