{
 "cells": [
  {
   "cell_type": "code",
   "execution_count": 149,
   "metadata": {},
   "outputs": [
    {
     "name": "stdout",
     "output_type": "stream",
     "text": [
      "The autoreload extension is already loaded. To reload it, use:\n",
      "  %reload_ext autoreload\n"
     ]
    }
   ],
   "source": [
    "%load_ext autoreload\n",
    "%autoreload 2"
   ]
  },
  {
   "cell_type": "code",
   "execution_count": 150,
   "metadata": {},
   "outputs": [],
   "source": [
    "import numpy as np\n",
    "from numpy.typing import NDArray\n",
    "import matplotlib.pyplot as plt\n",
    "import utils_fc as utils\n",
    "from scipy.optimize import minimize\n",
    "from scipy import stats\n",
    "from tqdm import tqdm"
   ]
  },
  {
   "cell_type": "code",
   "execution_count": 151,
   "metadata": {},
   "outputs": [],
   "source": [
    "subject_id_default = 13620\n",
    "dataloader = utils.MRIDataLoader()\n",
    "TE_times = dataloader.get_TE_times()\n",
    "roi_dict, roi_id_dict = dataloader.get_roi_dicts()\n",
    "info_dict = dataloader.get_info_dict()\n",
    "thresh_default = 0.9\n",
    "subject_ids = dataloader.get_subject_ids()\n",
    "is_pre_term = dataloader.get_info(1) < 26\n",
    "pre_term_ids = np.arange(subject_ids.shape[0])[is_pre_term]\n",
    "full_term_ids = np.arange(subject_ids.shape[0])[~is_pre_term]\n",
    "root_path = 'data/arrays/'\n",
    "\n",
    "WM_T2 = 66.1\n",
    "GM_T2 = 74.2"
   ]
  },
  {
   "cell_type": "code",
   "execution_count": 152,
   "metadata": {},
   "outputs": [],
   "source": [
    "data_full, seg_full = dataloader.load_all_roi_WM_GM_thresh_mono_data(thresh_default, 'fullterm')\n",
    "data_pre, seg_pre = dataloader.load_all_roi_WM_GM_thresh_mono_data(thresh_default, 'preterm')"
   ]
  },
  {
   "cell_type": "markdown",
   "metadata": {},
   "source": [
    "### Calculate Myelin percentage on Full Term"
   ]
  },
  {
   "cell_type": "code",
   "execution_count": 153,
   "metadata": {},
   "outputs": [],
   "source": [
    "# get the data we want - mono and WM + GM > thresh\n",
    "WM_id, GM_id = roi_dict['WM'], roi_dict['GM']\n",
    "is_thresh = (seg_full[:,WM_id] + seg_full[:,GM_id]) > thresh_default\n",
    "is_mono = utils.is_monotonic_index(data_full)\n",
    "is_mono_thresh = (is_mono * is_thresh).astype(bool)\n",
    "\n",
    "data = data_full[is_mono_thresh]\n",
    "seg = seg_full[is_mono_thresh]\n",
    "\n",
    "WM_GM_factor = seg[:,GM_id] / (seg[:,GM_id] + seg[:,WM_id])"
   ]
  },
  {
   "cell_type": "code",
   "execution_count": 154,
   "metadata": {},
   "outputs": [],
   "source": [
    "nb_vox = 1000\n",
    "nb_rand_vox = np.random.randint(low=0, high=data.shape[0], size=nb_vox)\n",
    "data_fit = data[nb_rand_vox]\n",
    "seg_fit = seg[nb_rand_vox]\n",
    "WM_GM_factor_fit = WM_GM_factor[nb_rand_vox]"
   ]
  },
  {
   "cell_type": "markdown",
   "metadata": {},
   "source": [
    "### First fit with WLLS to get an estimate on S0"
   ]
  },
  {
   "cell_type": "code",
   "execution_count": 155,
   "metadata": {},
   "outputs": [
    {
     "name": "stderr",
     "output_type": "stream",
     "text": [
      "c:\\Users\\fl_cl\\OneDrive - University College London\\Visual Studio 2017\\Biomedical-imaging\\report\\utils_fc.py:76: RuntimeWarning: divide by zero encountered in divide\n",
      "  T2 = (-1) / X[:,1]\n"
     ]
    },
    {
     "data": {
      "image/png": "[encoded data removed]",
      "text/plain": [
       "<Figure size 640x480 with 1 Axes>"
      ]
     },
     "metadata": {},
     "output_type": "display_data"
    }
   ],
   "source": [
    "_, S0_fit = utils.lsqr_weighted(data_fit[:,1:], np.ones(nb_vox), TE_times[1:])    # fit S0 without TE-13 signal\n",
    "\n",
    "plt.boxplot(S0_fit, vert=False)\n",
    "plt.title('Estimated S0 using WLLS')\n",
    "plt.show()"
   ]
  },
  {
   "cell_type": "markdown",
   "metadata": {},
   "source": [
    "### Use priors to get an estimate on myelin"
   ]
  },
  {
   "cell_type": "markdown",
   "metadata": {},
   "source": [
    "### fit with 4 compartment model"
   ]
  },
  {
   "cell_type": "code",
   "execution_count": 156,
   "metadata": {},
   "outputs": [
    {
     "name": "stderr",
     "output_type": "stream",
     "text": [
      "  1%|1         | 10/1000 [00:00<00:09, 99.03it/s]c:\\Users\\fl_cl\\OneDrive - University College London\\Visual Studio 2017\\Biomedical-imaging\\report\\utils_fc.py:131: RuntimeWarning: divide by zero encountered in divide\n",
      "  T2_inv = 1/T2\n",
      "100%|##########| 1000/1000 [00:16<00:00, 58.94it/s]\n"
     ]
    }
   ],
   "source": [
    "problem_four_compartment = utils.create_problem_to_minimize('four_compartment')\n",
    "answers_4 = np.zeros(shape=(nb_vox, 4))\n",
    "\n",
    "for vox_id, vox_data in tqdm(enumerate(data_fit), ascii=True, total=nb_vox):\n",
    "    x0 = np.array([20, 70, 0.3, 0.5])\n",
    "    args = (vox_data, TE_times, S0_fit[vox_id], WM_T2, GM_T2, WM_GM_factor_fit[vox_id])\n",
    "    \n",
    "    solution = minimize(**problem_four_compartment, x0=x0, args=args, method='L-BFGS-B')\n",
    "    for param_id in range(x0.shape[0]):\n",
    "        answers_4[vox_id, param_id] = solution['x'][param_id]\n",
    "\n",
    "is_myelin_full = ((answers_4[:,0] < 35) * (answers_4[:,0] > 5)).astype(bool)\n",
    "myelin_v_full = answers_4[:,2] * answers_4[:,3]\n",
    "myelin_proportion_full = (myelin_v_full[is_myelin_full].sum() / nb_vox) * 100\n",
    "    "
   ]
  },
  {
   "cell_type": "code",
   "execution_count": 157,
   "metadata": {},
   "outputs": [
    {
     "name": "stderr",
     "output_type": "stream",
     "text": [
      "C:\\Users\\fl_cl\\AppData\\Local\\Temp\\ipykernel_24612\\2728029460.py:12: UserWarning: Matplotlib is currently using module://matplotlib_inline.backend_inline, which is a non-GUI backend, so cannot show the figure.\n",
      "  fig.show()\n"
     ]
    },
    {
     "data": {
      "image/png": "[encoded data removed]",
      "text/plain": [
       "<Figure size 800x200 with 4 Axes>"
      ]
     },
     "metadata": {},
     "output_type": "display_data"
    }
   ],
   "source": [
    "fig, axs = plt.subplots(1,4, figsize=(8,2))\n",
    "\n",
    "axs[0].hist(answers_4[answers_4[:,0] < 35, 0])\n",
    "axs[0].set_title('myelin T2')\n",
    "axs[1].hist(answers_4[answers_4[:,0] < 35,1])\n",
    "axs[1].set_title('Other T2')\n",
    "axs[2].hist(answers_4[answers_4[:,0] < 35,2] * answers_4[answers_4[:,0] < 35,3])\n",
    "axs[2].set_title('myelin v_i')\n",
    "axs[3].hist(answers_4[answers_4[:,0] < 35,2] * (1 - answers_4[answers_4[:,0] < 35,3]))\n",
    "axs[3].set_title('other v_i')\n",
    "fig.tight_layout()\n",
    "fig.show()"
   ]
  },
  {
   "cell_type": "markdown",
   "metadata": {},
   "source": [
    "### Fit on full term"
   ]
  },
  {
   "cell_type": "code",
   "execution_count": 162,
   "metadata": {},
   "outputs": [
    {
     "name": "stderr",
     "output_type": "stream",
     "text": [
      "100%|##########| 200/200 [05:49<00:00,  1.75s/it]\n"
     ]
    }
   ],
   "source": [
    "nb_sample = 100\n",
    "nb_bootstrap = 200\n",
    "\n",
    "# get the data we want - mono and WM + GM > thresh\n",
    "WM_id, GM_id = roi_dict['WM'], roi_dict['GM']\n",
    "\n",
    "data = data_full\n",
    "seg = seg_full\n",
    "\n",
    "WM_GM_factor = seg[:,GM_id] / (seg[:,GM_id] + seg[:,WM_id])\n",
    "\n",
    "myelin_proportion_full = np.zeros(nb_bootstrap)\n",
    "myelin_v_full = []\n",
    "\n",
    "for i in tqdm(range(nb_bootstrap), ascii=True):\n",
    "    nb_rand_vox = np.random.randint(low=0, high=data.shape[0], size=nb_sample)\n",
    "    data_fit = data[nb_rand_vox]\n",
    "    seg_fit = seg[nb_rand_vox]\n",
    "    WM_GM_factor_fit = WM_GM_factor[nb_rand_vox]\n",
    "\n",
    "    _, S0_fit = utils.lsqr_weighted(data_fit[:,1:], np.ones(nb_vox), TE_times[1:])\n",
    "\n",
    "    problem_four_compartment = utils.create_problem_to_minimize('four_compartment')\n",
    "    answers_4 = np.zeros(shape=(nb_vox, 4))\n",
    "\n",
    "    for vox_id, vox_data in enumerate(data_fit):\n",
    "        x0 = np.array([20, 70, 0.3, 0.5])\n",
    "        args = (vox_data, TE_times, S0_fit[vox_id], WM_T2, GM_T2, WM_GM_factor_fit[vox_id])\n",
    "        \n",
    "        solution = minimize(**problem_four_compartment, x0=x0, args=args, method='L-BFGS-B')\n",
    "        for param_id in range(x0.shape[0]):\n",
    "            answers_4[vox_id, param_id] = solution['x'][param_id]\n",
    "\n",
    "    is_myelin_full = ((answers_4[:,0] < 35) * (answers_4[:,0] > 5)).astype(bool)\n",
    "    myelin_v_full.append((answers_4[:,2] * answers_4[:,3])[is_myelin_full])\n",
    "    myelin_proportion_full[i] = (myelin_v_full[i].sum() / nb_vox) * 100\n",
    "    "
   ]
  },
  {
   "cell_type": "markdown",
   "metadata": {},
   "source": [
    "### Now fit on Pre Term"
   ]
  },
  {
   "cell_type": "code",
   "execution_count": 163,
   "metadata": {},
   "outputs": [
    {
     "name": "stderr",
     "output_type": "stream",
     "text": [
      "100%|##########| 200/200 [06:00<00:00,  1.80s/it]\n"
     ]
    }
   ],
   "source": [
    "nb_sample = 100\n",
    "nb_bootstrap = 200\n",
    "\n",
    "\n",
    "data = data_pre\n",
    "seg = seg_pre\n",
    "\n",
    "WM_GM_factor = seg[:,GM_id] / (seg[:,GM_id] + seg[:,WM_id])\n",
    "\n",
    "myelin_proportion_pre = np.zeros(nb_bootstrap)\n",
    "myelin_v_pre = []\n",
    "\n",
    "for i in tqdm(range(nb_bootstrap), ascii=True):\n",
    "    nb_rand_vox = np.random.randint(low=0, high=data.shape[0], size=nb_sample)\n",
    "    data_fit = data[nb_rand_vox]\n",
    "    seg_fit = seg[nb_rand_vox]\n",
    "    WM_GM_factor_fit = WM_GM_factor[nb_rand_vox]\n",
    "\n",
    "    _, S0_fit = utils.lsqr_weighted(data_fit[:,1:], np.ones(nb_vox), TE_times[1:])\n",
    "\n",
    "    problem_four_compartment = utils.create_problem_to_minimize('four_compartment')\n",
    "    answers_4 = np.zeros(shape=(nb_vox, 4))\n",
    "\n",
    "    for vox_id, vox_data in enumerate(data_fit):\n",
    "        x0 = np.array([20, 70, 0.3, 0.5])\n",
    "        args = (vox_data, TE_times, S0_fit[vox_id], WM_T2, GM_T2, WM_GM_factor_fit[vox_id])\n",
    "        \n",
    "        solution = minimize(**problem_four_compartment, x0=x0, args=args, method='L-BFGS-B')\n",
    "        for param_id in range(x0.shape[0]):\n",
    "            answers_4[vox_id, param_id] = solution['x'][param_id]\n",
    "\n",
    "    is_myelin_pre = ((answers_4[:,0] < 35) * (answers_4[:,0] > 5)).astype(bool)\n",
    "    myelin_v_pre.append((answers_4[:,2] * answers_4[:,3])[is_myelin_pre])\n",
    "    myelin_proportion_pre[i] = (myelin_v_pre[i].sum() / nb_vox) * 100\n",
    "    "
   ]
  },
  {
   "cell_type": "markdown",
   "metadata": {},
   "source": [
    "### Result"
   ]
  },
  {
   "cell_type": "code",
   "execution_count": 164,
   "metadata": {},
   "outputs": [
    {
     "name": "stdout",
     "output_type": "stream",
     "text": [
      "Myeline proportions after fitting 1000 voxels\n",
      "Full Term: 0.01868%\n",
      "Pre Term : 0.02565%\n"
     ]
    }
   ],
   "source": [
    "print(f'Myeline proportions after fitting {nb_vox} voxels')\n",
    "print(f'Full Term: {myelin_proportion_full.mean():.5f}%')\n",
    "print(f'Pre Term : {myelin_proportion_pre.mean():.5f}%')"
   ]
  },
  {
   "cell_type": "code",
   "execution_count": 183,
   "metadata": {},
   "outputs": [
    {
     "name": "stderr",
     "output_type": "stream",
     "text": [
      "C:\\Users\\fl_cl\\AppData\\Local\\Temp\\ipykernel_24612\\1329323955.py:29: UserWarning: Matplotlib is currently using module://matplotlib_inline.backend_inline, which is a non-GUI backend, so cannot show the figure.\n",
      "  fig.show()\n"
     ]
    },
    {
     "data": {
      "image/png": "[encoded data removed]",
      "text/plain": [
       "<Figure size 800x300 with 3 Axes>"
      ]
     },
     "metadata": {},
     "output_type": "display_data"
    }
   ],
   "source": [
    "fig, axs = plt.subplots(1,3, figsize=(8,3))\n",
    "\n",
    "col_interval = 'gray'\n",
    "col_full = 'blue'\n",
    "col_pre = 'orange'\n",
    "alpha = 0.35\n",
    "\n",
    "full_bounds = np.percentile(myelin_proportion_full, [2.5, 50, 97.5])\n",
    "pre_bounds = np.percentile(myelin_proportion_pre, [2.5, 50, 97.5])\n",
    "\n",
    "axs[0].hist(myelin_proportion_full, color=col_full, label='Fullterm')\n",
    "axs[0].axvspan(xmin=full_bounds[0], xmax=full_bounds[2], color=col_interval, linestyle='--', alpha=alpha)\n",
    "axs[0].set_title('Fullterm')\n",
    "\n",
    "axs[1].hist(myelin_proportion_pre, color=col_pre, label='Preterm')\n",
    "axs[1].axvspan(xmin=pre_bounds[0], xmax=pre_bounds[2], color=col_interval, linestyle='--', alpha=alpha, label='95% Confidence Interval')\n",
    "axs[1].set_title('Preterm')\n",
    "\n",
    "axs[2].hist(myelin_proportion_pre, color=col_pre, alpha=0.5, density=True)\n",
    "axs[2].hist(myelin_proportion_full, color=col_full, alpha=0.5, density=True)\n",
    "axs[2].set_title('Fullterm vs Preterm')\n",
    "axs[2].set_ylabel('density')\n",
    "axs[1].set_xlabel('Myelin Percentage')\n",
    "\n",
    "\n",
    "fig.suptitle('Myelin Proportions in\\n White and Grey Matter\\n')\n",
    "fig.tight_layout()\n",
    "fig.legend()\n",
    "fig.show()"
   ]
  },
  {
   "cell_type": "code",
   "execution_count": 186,
   "metadata": {},
   "outputs": [
    {
     "name": "stdout",
     "output_type": "stream",
     "text": [
      "Myelin - Full vs Pre\n",
      "Full: Median proportion: 0.0012, Interval: (0.0000, 0.1200)\n",
      "Pre : Median proportion: 0.0017, Interval: (0.0000, 0.1380)\n"
     ]
    }
   ],
   "source": [
    "print(f'Myelin - Full vs Pre')\n",
    "print(f'Full: Median proportion: {full_bounds[1]:6.4f}, Interval: ({full_bounds[0]:6.4f}, {full_bounds[2]:6.4f})')\n",
    "print(f'Pre : Median proportion: {pre_bounds[1]:6.4f}, Interval: ({pre_bounds[0]:6.4f}, {pre_bounds[2]:6.4f})')"
   ]
  }
 ],
 "metadata": {
  "kernelspec": {
   "display_name": "Python 3 (ipykernel)",
   "language": "python",
   "name": "python3"
  },
  "language_info": {
   "codemirror_mode": {
    "name": "ipython",
    "version": 3
   },
   "file_extension": ".py",
   "mimetype": "text/x-python",
   "name": "python",
   "nbconvert_exporter": "python",
   "pygments_lexer": "ipython3",
   "version": "3.10.2"
  },
  "vscode": {
   "interpreter": {
    "hash": "9175f14313f4b35742ea6c52a4ce22cd1fcfedf80e7f8b431e13de372660966e"
   }
  }
 },
 "nbformat": 4,
 "nbformat_minor": 2
}
