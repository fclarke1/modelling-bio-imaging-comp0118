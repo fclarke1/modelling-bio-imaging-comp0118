{
 "cells": [
  {
   "attachments": {},
   "cell_type": "markdown",
   "metadata": {},
   "source": [
    "# q1.3.1"
   ]
  },
  {
   "cell_type": "code",
   "execution_count": null,
   "metadata": {},
   "outputs": [],
   "source": [
    "# Matlab Code\n",
    "\n",
    "% Load the diffusion signal\n",
    "fid = fopen('isbi2015_data_normalised.txt', 'r', 'b');\n",
    "fgetl(fid); % Read in the header\n",
    "D = fscanf(fid, '%f', [6, inf])'; % Read in the data\n",
    "fclose(fid);\n",
    "% Select the first of the 6 voxels\n",
    "meas = D(:,1);\n",
    "% Load the protocol\n",
    "fid = fopen('isbi2015_protocol.txt', 'r', 'b');\n",
    "fgetl(fid);\n",
    "A = fscanf(fid, '%f', [7, inf]);\n",
    "fclose(fid);\n",
    "% Create the protocol\n",
    "grad_dirs = A(1:3,:);\n",
    "G = A(4,:);\n",
    "delta = A(5,:);\n",
    "smalldel = A(6,:);\n",
    "TE = A(7,:);\n",
    "GAMMA = 2.675987E8;\n",
    "bvals = ((GAMMA*smalldel.*G).^2).*(delta-smalldel/3);\n",
    "% convert bvals units from s/m^2 to s/mm^2\n",
    "bvals = bvals/10^6"
   ]
  },
  {
   "cell_type": "code",
   "execution_count": null,
   "metadata": {},
   "outputs": [],
   "source": [
    "# example from before\n",
    "# Load in the diffusion MRI data set\n",
    "dwis = loadmat('data.mat')['dwis']\n",
    "dwis = np.double(dwis)\n",
    "dwis = dwis.transpose((3, 0, 1, 2))\n",
    "[Dc, Dx, Dy, Dz] = dwis.shape\n",
    "print(dwis.shape)"
   ]
  },
  {
   "cell_type": "code",
   "execution_count": 1,
   "metadata": {},
   "outputs": [],
   "source": [
    "# import required libraries\n",
    "import numpy as np\n",
    "\n",
    "import matplotlib.pyplot as plt\n",
    "from matplotlib.ticker import FormatStrFormatter\n",
    "\n",
    "import scipy.stats as stats\n",
    "from scipy.io import loadmat\n",
    "from scipy.optimize import minimize\n",
    "from scipy.special import expit, logit"
   ]
  },
  {
   "cell_type": "code",
   "execution_count": 21,
   "metadata": {},
   "outputs": [],
   "source": [
    "# load in normalised data\n",
    "# D.shape = 3612x6\n",
    "# D has headers: vox1, vox2, vox3, vox4, vox5, vox6\n",
    "D = np.genfromtxt('isbi2015_data_normalised.txt', skip_header=1, dtype=float, encoding='utf-8')\n",
    "\n",
    "# load in protocol\n",
    "# A.shape = 3612x7\n",
    "# A has headers: dir-x, dir-y, dir-z, |G|, DELTA, delta, TE\n",
    "A = np.genfromtxt('isbi2015_protocol.txt', skip_header=1, dtype=float, encoding='utf-8')\n",
    "\n",
    "# dir-x, dir-y, dir-z\n",
    "grad_dirs = A[:,0:3]    # mT/mm\n",
    "G = A[:,3]              # mT/mm\n",
    "delta = A[:,4]          # s x10-6\n",
    "smalldel = A[:,5]       # ms (10x-3)\n",
    "TE = A[:,6]             # s x10-6\n",
    "\n",
    "GAMMA = 2.675987e8\n",
    "\n",
    "bvals = ((GAMMA * smalldel * G)**2) * (delta - (smalldel / 3))\n",
    "# convert bvals to s/mm^2 from s/m^2\n",
    "bvals = bvals / (10**6)\n",
    "\n",
    "noise_std = 0.04"
   ]
  }
 ],
 "metadata": {
  "kernelspec": {
   "display_name": "MV00-py3.9",
   "language": "python",
   "name": "python3"
  },
  "language_info": {
   "codemirror_mode": {
    "name": "ipython",
    "version": 3
   },
   "file_extension": ".py",
   "mimetype": "text/x-python",
   "name": "python",
   "nbconvert_exporter": "python",
   "pygments_lexer": "ipython3",
   "version": "3.9.13"
  },
  "orig_nbformat": 4,
  "vscode": {
   "interpreter": {
    "hash": "9175f14313f4b35742ea6c52a4ce22cd1fcfedf80e7f8b431e13de372660966e"
   }
  }
 },
 "nbformat": 4,
 "nbformat_minor": 2
}
