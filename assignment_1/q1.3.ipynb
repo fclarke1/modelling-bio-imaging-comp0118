{
 "cells": [
  {
   "attachments": {},
   "cell_type": "markdown",
   "metadata": {},
   "source": [
    "# q1.3\n",
    "Loading in the data and basic data transformations"
   ]
  },
  {
   "cell_type": "code",
   "execution_count": 1,
   "metadata": {},
   "outputs": [],
   "source": [
    "# import required libraries\n",
    "import numpy as np\n",
    "\n",
    "import matplotlib.pyplot as plt\n",
    "from matplotlib.ticker import FormatStrFormatter\n",
    "\n",
    "import scipy.stats as stats\n",
    "from scipy.io import loadmat\n",
    "from scipy.optimize import minimize\n",
    "from scipy.special import expit, logit"
   ]
  },
  {
   "cell_type": "code",
   "execution_count": 21,
   "metadata": {},
   "outputs": [],
   "source": [
    "# load in normalised data\n",
    "# D.shape = 3612x6\n",
    "# D has headers: vox1, vox2, vox3, vox4, vox5, vox6\n",
    "D = np.genfromtxt('isbi2015_data_normalised.txt', skip_header=1, dtype=float, encoding='utf-8')\n",
    "\n",
    "# load in protocol\n",
    "# A.shape = 3612x7\n",
    "# A has headers: dir-x, dir-y, dir-z, |G|, DELTA, delta, TE\n",
    "A = np.genfromtxt('isbi2015_protocol.txt', skip_header=1, dtype=float, encoding='utf-8')\n",
    "\n",
    "# dir-x, dir-y, dir-z\n",
    "grad_dirs = A[:,0:3]    # mT/mm\n",
    "G = A[:,3]              # mT/mm\n",
    "delta = A[:,4]          # s x10-6\n",
    "smalldel = A[:,5]       # ms (10x-3)\n",
    "TE = A[:,6]             # s x10-6\n",
    "\n",
    "GAMMA = 2.675987e8\n",
    "\n",
    "bvals = ((GAMMA * smalldel * G)**2) * (delta - (smalldel / 3))\n",
    "# convert bvals to s/mm^2 from s/m^2\n",
    "bvals = bvals / (10**6)\n",
    "\n",
    "noise_std = 0.04"
   ]
  },
  {
   "attachments": {},
   "cell_type": "markdown",
   "metadata": {},
   "source": [
    "# Q1.3.1\n",
    "Use the ball and stick model on this new data"
   ]
  }
 ],
 "metadata": {
  "kernelspec": {
   "display_name": "MV00-py3.9",
   "language": "python",
   "name": "python3"
  },
  "language_info": {
   "codemirror_mode": {
    "name": "ipython",
    "version": 3
   },
   "file_extension": ".py",
   "mimetype": "text/x-python",
   "name": "python",
   "nbconvert_exporter": "python",
   "pygments_lexer": "ipython3",
   "version": "3.9.13 (main, Oct 13 2022, 21:23:06) [MSC v.1916 64 bit (AMD64)]"
  },
  "orig_nbformat": 4,
  "vscode": {
   "interpreter": {
    "hash": "9175f14313f4b35742ea6c52a4ce22cd1fcfedf80e7f8b431e13de372660966e"
   }
  }
 },
 "nbformat": 4,
 "nbformat_minor": 2
}
