{
 "cells": [
  {
   "attachments": {},
   "cell_type": "markdown",
   "metadata": {},
   "source": [
    "Notes\n",
    " - estimating the noise. Best to use measurements against g-t. Using a histogram loses the order and discretizes the data so not the best estiumate of the error\n",
    "  - 3.1 objective is the sum of squares error\n",
    "\n",
    "v2 script\n",
    " - betaGT is 2 element array, with beta[0] having slope, and beta[1] the interecept\n",
    " - J is the interecept array of only 1s in a single column, X is the design matrix of [J; x]\n",
    "\n",
    "Uncertainty\n",
    " - In virtual environment we can do better than bootstrap. We can just generate new data N times. This gives the best estimate of uncertainty we can get for our parameters (slope, intercept) -> we expect the distribution of each parameter to be Gaussian\n",
    "    - This is because if y is gaussian distirbuted -> multiple, addition, etc. is also gaussian.\n",
    "    - different parameters have different var because they have different operations on them so can work out what their expected var should be\n",
    "    - NOTE: the var estimate of data is NOT gaussian. It is Chi-squared distributed\n",
    "\n",
    "Variable Space\n",
    " - 1 axis for each variable\n",
    " \n",
    "Subject Space\n",
    " - 1 axis for each observation. So N observations we are in a R^N space\n",
    " - Each point represents all observations for that variable (so an arrow for each variable)\n",
    " - solution space is the hyper-plane created by using the bias arrow, and the arrows for predictor arrows. The outcome arrow stays in this hyper-plane (solution space) if there is no noise -> indicates the model describes the data perfectly#\n",
    " - the least Squares solution will find the solution that gives the smallest distance between the solution space and the outcome arrow\n",
    " - error space is orthogonal to the solution space. We can tell apart the noise from the model for any error in the error space. dim of error space is n-p where n is number of measurements and we have p parameters. Any error in error space will be seen as error, and not incorporated in the model\n",
    "  - estimation space is error within the solution space which we can't tell apart from the model. This is because the model will interpret the error as true signal\n",
    "  - We want as many measurements as possible to get the error space to be much higher dim than the estimation space which will reduce the variance of our model\n",
    "\n",
    "How do we know slope/beta is zero?\n",
    " - Use the null hypothesis of beta being zero, and find the p-value of it not being zero\n",
    " - how do we do this if we don't know the underlying noise? We can use permutation test which doesn't make strong assumptions on the noise"
   ]
  },
  {
   "cell_type": "code",
   "execution_count": 132,
   "metadata": {},
   "outputs": [],
   "source": [
    "import numpy as np\n",
    "import scipy.stats as stats\n",
    "import matplotlib.pyplot as plt\n",
    "\n",
    "rng = np.random.default_rng(seed=22197823)"
   ]
  },
  {
   "attachments": {},
   "cell_type": "markdown",
   "metadata": {},
   "source": [
    "# q1.a"
   ]
  },
  {
   "cell_type": "code",
   "execution_count": 133,
   "metadata": {},
   "outputs": [
    {
     "name": "stdout",
     "output_type": "stream",
     "text": [
      "Data 1: mean : 1.50, std: 0.19. Expected mean and std: 1.5, 0.2\n",
      "Data 2: mean : 1.94, std: 0.20. Expected mean and std: 2.0, 0.2\n"
     ]
    },
    {
     "data": {
      "text/plain": [
       "Text(0.5, 1.0, 'Synthetic data 1 vs 2')"
      ]
     },
     "execution_count": 133,
     "metadata": {},
     "output_type": "execute_result"
    },
    {
     "data": {
      "image/png": "[encoded data removed]",
      "text/plain": [
       "<Figure size 640x480 with 1 Axes>"
      ]
     },
     "metadata": {},
     "output_type": "display_data"
    }
   ],
   "source": [
    "# generate sample data\n",
    "std_gt = 0.2\n",
    "mean_1_gt = 1.5\n",
    "mean_2_gt = 2.0\n",
    "N = 20\n",
    "\n",
    "group1 = rng.normal(loc=mean_1_gt, scale=std_gt, size=N)\n",
    "group2 = rng.normal(loc=mean_2_gt, scale=std_gt, size=N)\n",
    "\n",
    "mean_1_calc = group1.mean()\n",
    "mean_2_calc = group2.mean()\n",
    "std_1_calc = group1.std()\n",
    "std_2_calc = group2.std()\n",
    "\n",
    "print(f'Data 1: mean : {mean_1_calc:.02f}, std: {std_1_calc:.02f}. Expected mean and std: {mean_1_gt}, {std_gt}')\n",
    "print(f'Data 2: mean : {mean_2_calc:.02f}, std: {std_2_calc:.02f}. Expected mean and std: {mean_2_gt}, {std_gt}')\n",
    "\n",
    "plt.scatter(group1, 2 * np.ones(N), color='r', label=f'groundtruth mean = {mean_1_gt}')\n",
    "plt.scatter(group2, 1 * np.ones(N), color='g', label=f'groundtruth mean = {mean_2_gt}')\n",
    "plt.legend()\n",
    "plt.title('Synthetic data 1 vs 2')"
   ]
  },
  {
   "attachments": {},
   "cell_type": "markdown",
   "metadata": {},
   "source": [
    "# q1.b"
   ]
  },
  {
   "cell_type": "code",
   "execution_count": 134,
   "metadata": {},
   "outputs": [
    {
     "name": "stdout",
     "output_type": "stream",
     "text": [
      "T statistic: -7.04, p-value: 0.0000000215\n"
     ]
    }
   ],
   "source": [
    "\n",
    "t_statistic_gt, p_val = stats.ttest_ind(group1, group2)\n",
    "print(f'T statistic: {t_statistic_gt:.2f}, p-value: {p_val:.10f}')"
   ]
  },
  {
   "attachments": {},
   "cell_type": "markdown",
   "metadata": {},
   "source": [
    "# q1.c i)"
   ]
  },
  {
   "cell_type": "code",
   "execution_count": 135,
   "metadata": {},
   "outputs": [
    {
     "name": "stdout",
     "output_type": "stream",
     "text": [
      "rank of C(X) = 2\n"
     ]
    }
   ],
   "source": [
    "# for Y = X1 * B1 + X2 * B2 + e, what is the design matrix?\n",
    "# synthetic data is from 2 groups\n",
    "\n",
    "# design matrix:\n",
    "X = np.zeros(shape=(40,2))\n",
    "X[:20, 0] = 1\n",
    "X[20:, 1] = 1\n",
    "\n",
    "Y = np.hstack([group1, group2])\n",
    "\n",
    "rank = np.linalg.matrix_rank(X)\n",
    "print(f'rank of C(X) = {rank}')"
   ]
  },
  {
   "attachments": {},
   "cell_type": "markdown",
   "metadata": {},
   "source": [
    "# q1.c ii)"
   ]
  },
  {
   "cell_type": "code",
   "execution_count": 136,
   "metadata": {},
   "outputs": [
    {
     "name": "stdout",
     "output_type": "stream",
     "text": [
      "Trace(Px) = 2.00\n"
     ]
    }
   ],
   "source": [
    "Px = X @ np.linalg.inv(X.T @ X) @ X.T\n",
    "print(f'Trace(Px) = {np.trace(Px):.2f}')"
   ]
  },
  {
   "attachments": {},
   "cell_type": "markdown",
   "metadata": {},
   "source": [
    "# q1.c iii)"
   ]
  },
  {
   "cell_type": "code",
   "execution_count": 137,
   "metadata": {},
   "outputs": [
    {
     "name": "stdout",
     "output_type": "stream",
     "text": [
      "error between Y and Y_hat: -0.00\n"
     ]
    }
   ],
   "source": [
    "# use Px to find Y_hat\n",
    "Y_hat = Px @ Y\n",
    "print(f'error between Y and Y_hat: {(Y - Y_hat).sum():.2f}')"
   ]
  },
  {
   "cell_type": "code",
   "execution_count": 138,
   "metadata": {},
   "outputs": [
    {
     "data": {
      "text/plain": [
       "(40, 2)"
      ]
     },
     "execution_count": 138,
     "metadata": {},
     "output_type": "execute_result"
    }
   ],
   "source": [
    "X.shape"
   ]
  },
  {
   "attachments": {},
   "cell_type": "markdown",
   "metadata": {},
   "source": [
    "# q1.c iv)"
   ]
  },
  {
   "cell_type": "code",
   "execution_count": 139,
   "metadata": {},
   "outputs": [
    {
     "name": "stdout",
     "output_type": "stream",
     "text": [
      "Rx = (I - Px) has passed numerical tests for being a perpendicular projection operator\n"
     ]
    }
   ],
   "source": [
    "d = Px.shape[0]\n",
    "Rx = np.identity(d) - Px\n",
    "\n",
    "eps = 1e-9\n",
    "\n",
    "if np.abs((Rx @ Rx - Rx).sum()) < eps and np.abs((Rx - Rx.T).sum()) < eps:\n",
    "    print(f'Rx = (I - Px) has passed numerical tests for being a perpendicular projection operator')\n",
    "else:\n",
    "    print(f'Rx FAILED a numerical test for being a perpendicular projection operator')"
   ]
  },
  {
   "attachments": {},
   "cell_type": "markdown",
   "metadata": {},
   "source": [
    "# q1.c v)"
   ]
  },
  {
   "cell_type": "code",
   "execution_count": 140,
   "metadata": {},
   "outputs": [
    {
     "name": "stdout",
     "output_type": "stream",
     "text": [
      "error space dim: 38\n"
     ]
    }
   ],
   "source": [
    "error_hat = Rx @ Y\n",
    "error_hat\n",
    "\n",
    "error_space_dim = np.linalg.matrix_rank(Rx)\n",
    "\n",
    "print(f'error space dim: {error_space_dim}')"
   ]
  },
  {
   "attachments": {},
   "cell_type": "markdown",
   "metadata": {},
   "source": [
    "# q1.c vi)"
   ]
  },
  {
   "cell_type": "code",
   "execution_count": 141,
   "metadata": {},
   "outputs": [
    {
     "name": "stdout",
     "output_type": "stream",
     "text": [
      "angle between Y_hat and error_hat is 0.50 * pi\n",
      "we expect error_hat and Y_hat to be perpendicular, so the angle should be 0.5 * pi\n"
     ]
    }
   ],
   "source": [
    "# normalise the vectors then calc the angle\n",
    "divisor = np.sqrt(np.dot(error_hat, error_hat) * np.dot(Y_hat, Y_hat))\n",
    "numerator = np.dot(error_hat, Y_hat)\n",
    "angle = np.arccos(numerator / divisor) / np.pi\n",
    "\n",
    "print(f'angle between Y_hat and error_hat is {angle:.2f} * pi')\n",
    "print(f'we expect error_hat and Y_hat to be perpendicular, so the angle should be 0.5 * pi')"
   ]
  },
  {
   "attachments": {},
   "cell_type": "markdown",
   "metadata": {},
   "source": [
    "# q1.c vii)"
   ]
  },
  {
   "cell_type": "code",
   "execution_count": 142,
   "metadata": {},
   "outputs": [
    {
     "name": "stdout",
     "output_type": "stream",
     "text": [
      "Difference when calculating Y_hat using Y = X @ Beta: 0.00\n"
     ]
    }
   ],
   "source": [
    "M = np.linalg.inv(X.T @ X)\n",
    "beta = M @ X.T @ Y\n",
    "Y_hat_1 = X @ beta\n",
    "diff = Y_hat - Y_hat_1\n",
    "print(f'Difference when calculating Y_hat using Y = X @ Beta: {diff.sum():.2f}')"
   ]
  },
  {
   "attachments": {},
   "cell_type": "markdown",
   "metadata": {},
   "source": [
    "# q1.c viii)"
   ]
  },
  {
   "cell_type": "code",
   "execution_count": 143,
   "metadata": {},
   "outputs": [
    {
     "data": {
      "text/plain": [
       "0.0390570392238516"
      ]
     },
     "execution_count": 143,
     "metadata": {},
     "output_type": "execute_result"
    }
   ],
   "source": [
    "numerator = np.dot(error_hat, error_hat)\n",
    "n = X.shape[0]\n",
    "divisor = n - np.linalg.matrix_rank(X)\n",
    "var_hat = numerator / divisor\n",
    "var_hat"
   ]
  },
  {
   "attachments": {},
   "cell_type": "markdown",
   "metadata": {},
   "source": [
    "# q1.c ix)"
   ]
  },
  {
   "cell_type": "code",
   "execution_count": 144,
   "metadata": {},
   "outputs": [
    {
     "name": "stdout",
     "output_type": "stream",
     "text": [
      "standard deviation for Beta_1 : 0.04, for Beta_2 : 0.04\n"
     ]
    }
   ],
   "source": [
    "S_beta = var_hat * np.linalg.inv(X.T @ X)\n",
    "std_beta1 = np.sqrt(S_beta[0,0])\n",
    "std_beta2 = np.sqrt(S_beta[1,1])\n",
    "\n",
    "print(f'standard deviation for Beta_1 : {std_beta1:.2f}, for Beta_2 : {std_beta2:.2f}')"
   ]
  },
  {
   "attachments": {},
   "cell_type": "markdown",
   "metadata": {},
   "source": [
    "# q1.c x)"
   ]
  },
  {
   "cell_type": "code",
   "execution_count": 145,
   "metadata": {},
   "outputs": [],
   "source": [
    "# calculate the contrast vector lmbda and the reduced model X_0\n",
    "\n",
    "lmbda = np.asarray([1, -1])\n",
    "X_0 = X @ np.asarray([1, 1])\n",
    "X_0 = X_0.reshape((-1,1))"
   ]
  },
  {
   "attachments": {},
   "cell_type": "markdown",
   "metadata": {},
   "source": [
    "# q1.c xi)"
   ]
  },
  {
   "cell_type": "code",
   "execution_count": 146,
   "metadata": {},
   "outputs": [
    {
     "name": "stdout",
     "output_type": "stream",
     "text": [
      "F statistic comparing the reduced model to the full model: -38.00\n",
      "the degrees of freedom of the F statistic is\n"
     ]
    }
   ],
   "source": [
    "# calculate the error from the reduced model\n",
    "\n",
    "Px_0 = X_0 @ np.linalg.inv(X_0.T @ X_0) @ X_0.T\n",
    "d = Px_0.shape[0]\n",
    "I = np.identity(d)\n",
    "Rx_0 = (I - Px_0)\n",
    "error_0_hat = Rx_0 @ Y\n",
    "\n",
    "# SSR = sum(Y_mean - Y_hat)**2\n",
    "# we have error = Y - Y_hat -> so introduce Y_error = Y_mean - Y\n",
    "v1 = np.trace(Px - Px_0)\n",
    "v2 = np.trace(I - Px)\n",
    "Y_error = Y.mean() - Y\n",
    "SSR_X0 = np.square(Y_error + error_0_hat).sum()\n",
    "SSR_X = np.square(Y_error + error_hat).sum()\n",
    "\n",
    "F_numerator = (SSR_X0 - SSR_X) / v1\n",
    "F_denominator = SSR_X / v2\n",
    "\n",
    "F_statistic = F_numerator / F_denominator\n",
    "print(f'F statistic comparing the reduced model to the full model: {F_statistic:.2f}')\n",
    "\n",
    "print('the degrees of freedom of the F statistic is')"
   ]
  },
  {
   "attachments": {},
   "cell_type": "markdown",
   "metadata": {},
   "source": [
    "# q1.c xii)"
   ]
  },
  {
   "cell_type": "code",
   "execution_count": 147,
   "metadata": {},
   "outputs": [
    {
     "name": "stdout",
     "output_type": "stream",
     "text": [
      "t-statistic for different means: -7.04\n",
      "difference between t-statistic calculated at the begining : 0.00000\n"
     ]
    }
   ],
   "source": [
    "# calculate the t-statistic\n",
    "\n",
    "numerator = lmbda @ beta\n",
    "denominator = np.sqrt(lmbda.reshape((1,-1)) @ S_beta @ lmbda.reshape((-1,1)))[0,0]\n",
    "t_statistic = numerator / denominator\n",
    "print(f't-statistic for different means: {t_statistic:.2f}')\n",
    "print(f'difference between t-statistic calculated at the begining : {t_statistic - t_statistic_gt:.5f}')"
   ]
  },
  {
   "attachments": {},
   "cell_type": "markdown",
   "metadata": {},
   "source": [
    "# q1.c xiii)"
   ]
  },
  {
   "cell_type": "code",
   "execution_count": 148,
   "metadata": {},
   "outputs": [
    {
     "data": {
      "text/plain": [
       "array([0.00218045, 0.00218045, 0.00218045, 0.00218045, 0.00218045,\n",
       "       0.00218045, 0.00218045, 0.00218045, 0.00218045, 0.00218045,\n",
       "       0.00218045, 0.00218045, 0.00218045, 0.00218045, 0.00218045,\n",
       "       0.00218045, 0.00218045, 0.00218045, 0.00218045, 0.00218045,\n",
       "       0.06202232, 0.06202232, 0.06202232, 0.06202232, 0.06202232,\n",
       "       0.06202232, 0.06202232, 0.06202232, 0.06202232, 0.06202232,\n",
       "       0.06202232, 0.06202232, 0.06202232, 0.06202232, 0.06202232,\n",
       "       0.06202232, 0.06202232, 0.06202232, 0.06202232, 0.06202232])"
      ]
     },
     "execution_count": 148,
     "metadata": {},
     "output_type": "execute_result"
    }
   ],
   "source": [
    "# calcualte error from ground truth (Y_gt)\n",
    "Y_gt = np.ones(Y.shape[0])\n",
    "Y_gt[:20] = 1.5\n",
    "Y_gt[20:] = 2.0\n",
    "\n",
    "error = Y_gt - Y\n",
    "error_projected_CX = Px @ error\n",
    "error_projected_CX"
   ]
  },
  {
   "attachments": {},
   "cell_type": "markdown",
   "metadata": {},
   "source": [
    "# q1.c xv)"
   ]
  },
  {
   "cell_type": "code",
   "execution_count": 149,
   "metadata": {},
   "outputs": [
    {
     "name": "stdout",
     "output_type": "stream",
     "text": [
      "error_hat diff to this: [-3.33066907e-16 -5.55111512e-16 -3.46944695e-16 -2.45463372e-16\n",
      " -4.02455846e-16 -2.77555756e-16 -1.66533454e-16 -2.49800181e-16\n",
      " -1.52655666e-16 -2.77555756e-17 -2.22044605e-16 -2.49800181e-16\n",
      " -1.66533454e-16 -2.46330734e-16 -2.49800181e-16 -1.11022302e-16\n",
      " -1.66533454e-16 -1.66533454e-16 -1.66533454e-16 -2.49800181e-16\n",
      " -5.55111512e-17 -2.49800181e-16 -5.55111512e-17  2.77555756e-16\n",
      " -2.77555756e-17 -4.59701721e-17 -1.11022302e-16 -1.66533454e-16\n",
      " -2.70616862e-16 -2.67147415e-16 -4.16333634e-17 -2.77555756e-16\n",
      " -2.77555756e-16 -2.49800181e-16 -5.55111512e-16 -4.99600361e-16\n",
      " -4.85722573e-16 -2.77555756e-16 -2.70616862e-16 -3.88578059e-16]\n"
     ]
    }
   ],
   "source": [
    "# error projected into not(C(x))\n",
    "\n",
    "error_projected_not_CX = Rx @ error\n",
    "error_projected_not_CX\n",
    "\n",
    "print(f'error_hat diff to this: {error_hat + error_projected_not_CX}')"
   ]
  },
  {
   "attachments": {},
   "cell_type": "markdown",
   "metadata": {},
   "source": [
    "# q1.d i)"
   ]
  },
  {
   "cell_type": "code",
   "execution_count": 150,
   "metadata": {},
   "outputs": [
    {
     "name": "stdout",
     "output_type": "stream",
     "text": [
      "design matrix X has rank 2\n"
     ]
    }
   ],
   "source": [
    "X_intercept = np.zeros(shape=(Y.shape[0], 3))\n",
    "X_intercept[:,   0] = 1\n",
    "X_intercept[:20, 1] = 1\n",
    "X_intercept[20:, 2] = 1\n",
    "\n",
    "print(f'design matrix X has rank {np.linalg.matrix_rank(X_intercept)}')"
   ]
  },
  {
   "attachments": {},
   "cell_type": "markdown",
   "metadata": {},
   "source": [
    "# q1.d ii)"
   ]
  },
  {
   "cell_type": "code",
   "execution_count": 151,
   "metadata": {},
   "outputs": [
    {
     "data": {
      "text/plain": [
       "array([[ 5.00000000e-02,  5.00000000e-02,  5.00000000e-02, ...,\n",
       "         0.00000000e+00,  0.00000000e+00,  0.00000000e+00],\n",
       "       [ 5.00000000e-02,  5.00000000e-02,  5.00000000e-02, ...,\n",
       "         0.00000000e+00,  0.00000000e+00,  0.00000000e+00],\n",
       "       [ 5.00000000e-02,  5.00000000e-02,  5.00000000e-02, ...,\n",
       "         0.00000000e+00,  0.00000000e+00,  0.00000000e+00],\n",
       "       ...,\n",
       "       [-3.46944695e-18, -3.46944695e-18, -3.46944695e-18, ...,\n",
       "         5.00000000e-02,  5.00000000e-02,  5.00000000e-02],\n",
       "       [-3.46944695e-18, -3.46944695e-18, -3.46944695e-18, ...,\n",
       "         5.00000000e-02,  5.00000000e-02,  5.00000000e-02],\n",
       "       [-3.46944695e-18, -3.46944695e-18, -3.46944695e-18, ...,\n",
       "         5.00000000e-02,  5.00000000e-02,  5.00000000e-02]])"
      ]
     },
     "execution_count": 151,
     "metadata": {},
     "output_type": "execute_result"
    }
   ],
   "source": [
    "Z = X_intercept\n",
    "Px_intercept = Z @ np.linalg.pinv(Z.T @ Z) @ Z.T\n",
    "Px_intercept"
   ]
  },
  {
   "attachments": {},
   "cell_type": "markdown",
   "metadata": {},
   "source": [
    "# q1.d iii)"
   ]
  },
  {
   "cell_type": "code",
   "execution_count": 152,
   "metadata": {},
   "outputs": [
    {
     "data": {
      "text/plain": [
       "(40, 2)"
      ]
     },
     "execution_count": 152,
     "metadata": {},
     "output_type": "execute_result"
    }
   ],
   "source": [
    "lmbda_intercept = np.asarray([0,1,-1]).reshape((1,-1))\n",
    "mult = np.asarray([[1, 0],\n",
    "                   [0, 1],\n",
    "                   [0, 1]])\n",
    "X_0_intercept = X_intercept @ mult\n",
    "X_0_intercept.shape"
   ]
  },
  {
   "attachments": {},
   "cell_type": "markdown",
   "metadata": {},
   "source": [
    "# q1.d iv)"
   ]
  },
  {
   "cell_type": "code",
   "execution_count": 153,
   "metadata": {},
   "outputs": [
    {
     "data": {
      "text/plain": [
       "-7.043022482674422"
      ]
     },
     "execution_count": 153,
     "metadata": {},
     "output_type": "execute_result"
    }
   ],
   "source": [
    "# calculate the t-statistic\n",
    "\n",
    "d = Y.shape[0]\n",
    "I = np.identity(d)\n",
    "Rx_intercept = (I - Px_intercept)\n",
    "error_hat_intercept = Rx_intercept @ Y\n",
    "M = np.linalg.pinv(X_intercept.T @ X_intercept)\n",
    "beta_intercept = M @ X_intercept.T @ Y\n",
    "\n",
    "numerator = (np.dot(error_hat_intercept, error_hat_intercept))\n",
    "denominator = d - np.linalg.matrix_rank(X_intercept)\n",
    "var_hat_intercept = numerator / denominator\n",
    "\n",
    "S_beta_intercept = var_hat_intercept * M\n",
    "\n",
    "numerator = lmbda_intercept @ beta_intercept\n",
    "denominator = np.sqrt(lmbda_intercept @ S_beta_intercept @ lmbda_intercept.T)\n",
    "t_statistic_intercept = (numerator / denominator)[0,0]\n",
    "t_statistic_intercept"
   ]
  },
  {
   "attachments": {},
   "cell_type": "markdown",
   "metadata": {},
   "source": [
    "# q1.e i)"
   ]
  },
  {
   "cell_type": "code",
   "execution_count": 154,
   "metadata": {},
   "outputs": [
    {
     "name": "stdout",
     "output_type": "stream",
     "text": [
      "design matrix X has rank 2\n"
     ]
    }
   ],
   "source": [
    "X_e= np.zeros(shape=(Y.shape[0], 2))\n",
    "X_e[:,   0] = 1\n",
    "X_e[:20, 1] = 1\n",
    "\n",
    "print(f'design matrix X has rank {np.linalg.matrix_rank(X_d)}')"
   ]
  },
  {
   "attachments": {},
   "cell_type": "markdown",
   "metadata": {},
   "source": [
    "# q1.e ii)"
   ]
  },
  {
   "cell_type": "code",
   "execution_count": 155,
   "metadata": {},
   "outputs": [],
   "source": [
    "lmbda_e = np.asarray([0, 1]).reshape((2, -1))"
   ]
  },
  {
   "attachments": {},
   "cell_type": "markdown",
   "metadata": {},
   "source": [
    "# q1.e iii)"
   ]
  },
  {
   "cell_type": "code",
   "execution_count": 156,
   "metadata": {},
   "outputs": [
    {
     "data": {
      "text/plain": [
       "-7.043022482674419"
      ]
     },
     "execution_count": 156,
     "metadata": {},
     "output_type": "execute_result"
    }
   ],
   "source": [
    "# calculate the t-statistic\n",
    "Z = X_e\n",
    "Px_e = Z @ np.linalg.pinv(Z.T @ Z) @ Z.T\n",
    "Px_e\n",
    "\n",
    "d = Y.shape[0]\n",
    "I = np.identity(d)\n",
    "Rx_e = (I - Px_e)\n",
    "error_hat_e = Rx_e @ Y\n",
    "M = np.linalg.pinv(X_e.T @ X_e)\n",
    "beta_e = M @ X_e.T @ Y\n",
    "\n",
    "numerator = (np.dot(error_hat_e, error_hat_e))\n",
    "denominator = d - np.linalg.matrix_rank(X_e)\n",
    "var_hat_e = numerator / denominator\n",
    "\n",
    "S_beta_e = var_hat_e * M\n",
    "\n",
    "numerator = np.dot(lmbda_e.flatten(), beta_e)\n",
    "denominator = np.sqrt(lmbda_e.T @ S_beta_e @ lmbda_e)\n",
    "t_statistic_e = (numerator / denominator)[0,0]\n",
    "t_statistic_e"
   ]
  },
  {
   "attachments": {},
   "cell_type": "markdown",
   "metadata": {},
   "source": [
    " # q2.a i)"
   ]
  },
  {
   "cell_type": "code",
   "execution_count": 211,
   "metadata": {},
   "outputs": [
    {
     "name": "stdout",
     "output_type": "stream",
     "text": [
      "ttest for 1 sample distribution: t = -6.13, p-value = 0.00000678\n",
      "ttest for 2 sample distribution: t = -7.04, p-value = 0.00000002\n"
     ]
    }
   ],
   "source": [
    "# now computing the ttest for null hypothesis 2 samples come from the same\n",
    "# distribution with the same mean\n",
    "t_statistic_1sample, p_val_1sample = stats.ttest_rel(group1, group2)\n",
    "print(f'ttest for 1 sample distribution: t = {t_statistic_1sample:.2f}, p-value = {p_val_1sample:.8f}')\n",
    "print(f'ttest for 2 sample distribution: t = {t_statistic:.2f}, p-value = {p_val:.8f}')"
   ]
  },
  {
   "attachments": {},
   "cell_type": "markdown",
   "metadata": {},
   "source": [
    "# q2.b i)"
   ]
  },
  {
   "cell_type": "code",
   "execution_count": 199,
   "metadata": {},
   "outputs": [
    {
     "name": "stdout",
     "output_type": "stream",
     "text": [
      "rank of X is: 21\n"
     ]
    }
   ],
   "source": [
    "# create the design matrix\n",
    "X_2b = np.zeros(shape=(40,22))\n",
    "X_2b[:,   0] = 1\n",
    "X_2b[20:, 1] = 1\n",
    "for i in range(20):\n",
    "    X_2b[i,    i+2] = 1\n",
    "    X_2b[20+i, i+2] = 1\n",
    "\n",
    "print(f'rank of X is: {np.linalg.matrix_rank(X_2b)}')"
   ]
  },
  {
   "cell_type": "code",
   "execution_count": 208,
   "metadata": {},
   "outputs": [],
   "source": [
    "# create lmbda\n",
    "lmbda_2b = np.zeros(22)\n",
    "lmbda_2b[1] = -1\n",
    "lmbda_2b = lmbda_2b.reshape((22,1))"
   ]
  },
  {
   "attachments": {},
   "cell_type": "markdown",
   "metadata": {},
   "source": [
    "# q2.b iii)"
   ]
  },
  {
   "cell_type": "code",
   "execution_count": 209,
   "metadata": {},
   "outputs": [
    {
     "data": {
      "text/plain": [
       "-6.132546581166477"
      ]
     },
     "execution_count": 209,
     "metadata": {},
     "output_type": "execute_result"
    }
   ],
   "source": [
    "# calculate the t-statistic\n",
    "Z = X_2b\n",
    "Px_2b = Z @ np.linalg.pinv(Z.T @ Z) @ Z.T\n",
    "Px_2b\n",
    "\n",
    "d = Y.shape[0]\n",
    "I = np.identity(d)\n",
    "Rx_2b = (I - Px_2b)\n",
    "error_hat_2b = Rx_2b @ Y\n",
    "M = np.linalg.pinv(X_2b.T @ X_2b)\n",
    "beta_2b = M @ X_2b.T @ Y\n",
    "\n",
    "numerator = (np.dot(error_hat_2b, error_hat_2b))\n",
    "denominator = d - np.linalg.matrix_rank(X_2b)\n",
    "var_hat_2b = numerator / denominator\n",
    "\n",
    "S_beta_2b = var_hat_2b * M\n",
    "\n",
    "numerator = np.dot(lmbda_2b.flatten(), beta_2b)\n",
    "denominator = np.sqrt(lmbda_2b.T @ S_beta_2b @ lmbda_2b)\n",
    "t_statistic_2b = (numerator / denominator)[0,0]\n",
    "t_statistic_2b"
   ]
  }
 ],
 "metadata": {
  "kernelspec": {
   "display_name": "MV00-py3.9",
   "language": "python",
   "name": "python3"
  },
  "language_info": {
   "codemirror_mode": {
    "name": "ipython",
    "version": 3
   },
   "file_extension": ".py",
   "mimetype": "text/x-python",
   "name": "python",
   "nbconvert_exporter": "python",
   "pygments_lexer": "ipython3",
   "version": "3.9.13"
  },
  "orig_nbformat": 4,
  "vscode": {
   "interpreter": {
    "hash": "9175f14313f4b35742ea6c52a4ce22cd1fcfedf80e7f8b431e13de372660966e"
   }
  }
 },
 "nbformat": 4,
 "nbformat_minor": 2
}
