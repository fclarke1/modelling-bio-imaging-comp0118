{
 "cells": [
  {
   "cell_type": "code",
   "execution_count": 1,
   "metadata": {},
   "outputs": [],
   "source": [
    "import numpy as np\n",
    "import scipy.stats as stats\n",
    "import matplotlib.pyplot as plt\n",
    "\n",
    "rng = np.random.default_rng(seed=22197823)"
   ]
  },
  {
   "attachments": {},
   "cell_type": "markdown",
   "metadata": {},
   "source": [
    "# q1.a)"
   ]
  },
  {
   "cell_type": "code",
   "execution_count": 8,
   "metadata": {},
   "outputs": [
    {
     "name": "stdout",
     "output_type": "stream",
     "text": [
      "Data 1: mean : 1.29, std: 0.15. Expected mean and std: 1.5, 0.2\n",
      "Data 2: mean : 1.91, std: 0.15. Expected mean and std: 2.0, 0.2\n",
      "T statistic: -6.92, p-value: 0.0000160548\n"
     ]
    },
    {
     "data": {
      "image/png": "[encoded data removed]",
      "text/plain": [
       "<Figure size 432x288 with 1 Axes>"
      ]
     },
     "metadata": {
      "needs_background": "light"
     },
     "output_type": "display_data"
    }
   ],
   "source": [
    "# generate sample data\n",
    "std_gt = 0.2\n",
    "mean_1_gt = 1.5\n",
    "mean_2_gt = 2.0\n",
    "N_1 = 6\n",
    "N_2 = 8\n",
    "\n",
    "group1 = rng.normal(loc=mean_1_gt, scale=std_gt, size=N_1)\n",
    "group2 = rng.normal(loc=mean_2_gt, scale=std_gt, size=N_2)\n",
    "\n",
    "mean_1_calc = group1.mean()\n",
    "mean_2_calc = group2.mean()\n",
    "std_1_calc = group1.std()\n",
    "std_2_calc = group2.std()\n",
    "\n",
    "print(f'Data 1: mean : {mean_1_calc:.02f}, std: {std_1_calc:.02f}. Expected mean and std: {mean_1_gt}, {std_gt}')\n",
    "print(f'Data 2: mean : {mean_2_calc:.02f}, std: {std_2_calc:.02f}. Expected mean and std: {mean_2_gt}, {std_gt}')\n",
    "\n",
    "plt.scatter(group1, 2 * np.ones(N_1), color='r', label=f'groundtruth mean = {mean_1_gt}')\n",
    "plt.scatter(group2, 1 * np.ones(N_2), color='g', label=f'groundtruth mean = {mean_2_gt}')\n",
    "plt.legend()\n",
    "plt.title('Synthetic data 1 vs 2')\n",
    "\n",
    "t_statistic_gt, p_val = stats.ttest_ind(group1, group2)\n",
    "print(f'T statistic: {t_statistic_gt:.2f}, p-value: {p_val:.10f}')"
   ]
  },
  {
   "cell_type": "code",
   "execution_count": null,
   "metadata": {},
   "outputs": [],
   "source": []
  }
 ],
 "metadata": {
  "kernelspec": {
   "display_name": "Python 3",
   "language": "python",
   "name": "python3"
  },
  "language_info": {
   "codemirror_mode": {
    "name": "ipython",
    "version": 3
   },
   "file_extension": ".py",
   "mimetype": "text/x-python",
   "name": "python",
   "nbconvert_exporter": "python",
   "pygments_lexer": "ipython3",
   "version": "3.10.2"
  },
  "orig_nbformat": 4,
  "vscode": {
   "interpreter": {
    "hash": "39684f6bc4282e93be36b5aac72d637a326ff246e213af181bce240f019ae372"
   }
  }
 },
 "nbformat": 4,
 "nbformat_minor": 2
}
