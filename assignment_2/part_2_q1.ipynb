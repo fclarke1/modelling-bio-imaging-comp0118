{
 "cells": [
  {
   "cell_type": "code",
   "execution_count": 1,
   "metadata": {},
   "outputs": [],
   "source": [
    "import numpy as np\n",
    "import scipy.stats as stats\n",
    "import scipy.special as special\n",
    "import matplotlib.pyplot as plt\n",
    "from itertools import combinations\n",
    "import random\n",
    "\n",
    "rng = np.random.default_rng(seed=22197823)\n",
    "random.seed(22197823)"
   ]
  },
  {
   "attachments": {},
   "cell_type": "markdown",
   "metadata": {},
   "source": [
    "# q1.a)"
   ]
  },
  {
   "cell_type": "code",
   "execution_count": 2,
   "metadata": {},
   "outputs": [
    {
     "name": "stdout",
     "output_type": "stream",
     "text": [
      "Data 1: mean : 1.53, std: 0.13. Expected mean and std: 1.5, 0.2\n",
      "Data 2: mean : 2.01, std: 0.19. Expected mean and std: 2.0, 0.2\n",
      "T statistic: -4.86, p-value: 0.00039\n"
     ]
    },
    {
     "data": {
      "image/png": "[encoded data removed]",
      "text/plain": [
       "<Figure size 432x288 with 1 Axes>"
      ]
     },
     "metadata": {
      "needs_background": "light"
     },
     "output_type": "display_data"
    }
   ],
   "source": [
    "# generate sample data\n",
    "std_gt = 0.2\n",
    "mean_1_gt = 1.5\n",
    "mean_2_gt = 2.0\n",
    "N_1 = 6\n",
    "N_2 = 8\n",
    "\n",
    "group1 = rng.normal(loc=mean_1_gt, scale=std_gt, size=N_1)\n",
    "group2 = rng.normal(loc=mean_2_gt, scale=std_gt, size=N_2)\n",
    "\n",
    "mean_1_calc = group1.mean()\n",
    "mean_2_calc = group2.mean()\n",
    "std_1_calc = group1.std()\n",
    "std_2_calc = group2.std()\n",
    "\n",
    "print(f'Data 1: mean : {mean_1_calc:.02f}, std: {std_1_calc:.02f}. Expected mean and std: {mean_1_gt}, {std_gt}')\n",
    "print(f'Data 2: mean : {mean_2_calc:.02f}, std: {std_2_calc:.02f}. Expected mean and std: {mean_2_gt}, {std_gt}')\n",
    "\n",
    "plt.scatter(group1, 2 * np.ones(N_1), color='r', label=f'groundtruth mean = {mean_1_gt}')\n",
    "plt.scatter(group2, 1 * np.ones(N_2), color='g', label=f'groundtruth mean = {mean_2_gt}')\n",
    "plt.legend()\n",
    "plt.title('Synthetic data 1 vs 2')\n",
    "\n",
    "t_statistic_gt, p_val = stats.ttest_ind(group1, group2)\n",
    "print(f'T statistic: {t_statistic_gt:.2f}, p-value: {p_val:.5f}')"
   ]
  },
  {
   "attachments": {},
   "cell_type": "markdown",
   "metadata": {},
   "source": [
    "# q1.b i)"
   ]
  },
  {
   "cell_type": "code",
   "execution_count": 3,
   "metadata": {},
   "outputs": [],
   "source": [
    "# put group 1 and 2 into 1D array D\n",
    "D = np.hstack((group1, group2))"
   ]
  },
  {
   "attachments": {},
   "cell_type": "markdown",
   "metadata": {},
   "source": [
    "# q1.b ii)"
   ]
  },
  {
   "cell_type": "code",
   "execution_count": 4,
   "metadata": {},
   "outputs": [
    {
     "name": "stdout",
     "output_type": "stream",
     "text": [
      "total number of permutations is 3003\n",
      "sum of D_group_perm should be 3003 * D.sum : 0.00\n"
     ]
    }
   ],
   "source": [
    "# Find all permutations of group 1 and group 2\n",
    "\n",
    "N = int(special.comb(N_1 + N_2, N_1))\n",
    "D_group_perms = np.zeros((N, N_1 + N_2))\n",
    "for row, group1_perm in enumerate(combinations(D, N_1)):\n",
    "    # for the group 1 permutation, store it as group 1 for this row in D_group_perm\n",
    "    group1_perm = np.asarray(group1_perm)\n",
    "    D_group_perms[row, :N_1] = group1_perm\n",
    "    \n",
    "    # for any item not in the group 1 permutation then add it to group 2\n",
    "    group2_idx = N_1\n",
    "    for item in D:\n",
    "        if item not in group1_perm:\n",
    "            D_group_perms[row, group2_idx] = item\n",
    "            group2_idx += 1\n",
    "print(f'total number of permutations is {N}')\n",
    "print(f'sum of D_group_perm should be {N} * D.sum : {D.sum() * N - D_group_perms.sum():.2f}')"
   ]
  },
  {
   "cell_type": "code",
   "execution_count": 12,
   "metadata": {},
   "outputs": [
    {
     "data": {
      "text/plain": [
       "(3003, 14)"
      ]
     },
     "execution_count": 12,
     "metadata": {},
     "output_type": "execute_result"
    }
   ],
   "source": [
    "D_group_perms.shape"
   ]
  },
  {
   "attachments": {},
   "cell_type": "markdown",
   "metadata": {},
   "source": [
    "# q1.b iii)"
   ]
  },
  {
   "cell_type": "code",
   "execution_count": 5,
   "metadata": {},
   "outputs": [
    {
     "data": {
      "text/plain": [
       "<matplotlib.legend.Legend at 0x1b07b842ef0>"
      ]
     },
     "execution_count": 5,
     "metadata": {},
     "output_type": "execute_result"
    },
    {
     "data": {
      "image/png": "[encoded data removed]",
      "text/plain": [
       "<Figure size 432x288 with 1 Axes>"
      ]
     },
     "metadata": {
      "needs_background": "light"
     },
     "output_type": "display_data"
    }
   ],
   "source": [
    "# compute the t-statistic for all group members\n",
    "# Assuming group 1 and group 2 are independent samples\n",
    "\n",
    "N = D_group_perms.shape[0]\n",
    "t_statistic_perms = np.zeros(N)\n",
    "for row in range(N):\n",
    "    group1_perm = D_group_perms[row, :N_1]\n",
    "    group2_perm = D_group_perms[row, N_1:]\n",
    "    ttest_perm, _ = stats.ttest_ind(group1_perm, group2_perm)\n",
    "    t_statistic_perms[row] = ttest_perm\n",
    "\n",
    "plt.hist(t_statistic_perms, bins=20, label='t-statistic empirical distribution')\n",
    "plt.scatter(x=t_statistic_gt, y=20, marker='x', color='r', label='original t-statistic')\n",
    "plt.title('t-statistic empirical distribution of all permutations\\nof group1 and group2')\n",
    "plt.legend()"
   ]
  },
  {
   "attachments": {},
   "cell_type": "markdown",
   "metadata": {},
   "source": [
    "# q1.b iv)"
   ]
  },
  {
   "cell_type": "code",
   "execution_count": 6,
   "metadata": {},
   "outputs": [
    {
     "name": "stdout",
     "output_type": "stream",
     "text": [
      "original t-statistic = -4.859482669007988, empirical p-val = 0.00067\n",
      "number of t-statistic empirical values equal or more extreme than original: 2\n",
      "original calculated p-val: 0.00039\n"
     ]
    }
   ],
   "source": [
    "# to find p-val find original t-statistic and find number of t-statistics with equal or greater value\n",
    "\n",
    "t_stat_num_equal_or_greater = (t_statistic_perms <= t_statistic_gt).sum()\n",
    "p_val_perms = t_stat_num_equal_or_greater / N\n",
    "print(f'original t-statistic = {t_statistic_gt}, empirical p-val = {p_val_perms:.5f}')\n",
    "print(f'number of t-statistic empirical values equal or more extreme than original: {t_stat_num_equal_or_greater}')\n",
    "print(f'original calculated p-val: {p_val:.5f}')"
   ]
  },
  {
   "attachments": {},
   "cell_type": "markdown",
   "metadata": {},
   "source": [
    "the empirical p-val is almost twice the value to the calculated original p-val. But because there are only two values equal or more extreme in the empirical distribution of the t-statistic it is going to vary quite a lot"
   ]
  },
  {
   "attachments": {},
   "cell_type": "markdown",
   "metadata": {},
   "source": [
    "# q1.c)"
   ]
  },
  {
   "cell_type": "code",
   "execution_count": 7,
   "metadata": {},
   "outputs": [
    {
     "name": "stdout",
     "output_type": "stream",
     "text": [
      "original mean statistic = 0.48, empirical p-val = 0.00133\n",
      "number of mean statistic empirical values equal or more extreme than original: 4\n"
     ]
    },
    {
     "data": {
      "image/png": "[encoded data removed]",
      "text/plain": [
       "<Figure size 432x288 with 1 Axes>"
      ]
     },
     "metadata": {
      "needs_background": "light"
     },
     "output_type": "display_data"
    }
   ],
   "source": [
    "# caclulate using the means as the statistic\n",
    "mean_statistic_gt = np.abs(group1.mean() - group2.mean())\n",
    "\n",
    "N = D_group_perms.shape[0]\n",
    "mean_statistic_perms = np.zeros(N)\n",
    "for row in range(N):\n",
    "    group1_perm = D_group_perms[row, :N_1]\n",
    "    group2_perm = D_group_perms[row, N_1:]\n",
    "    mean_statistic_perms[row] = np.abs(group1_perm.mean() - group2_perm.mean())\n",
    "\n",
    "plt.hist(mean_statistic_perms, bins=20, label='mean statistic empirical distribution')\n",
    "plt.scatter(x=mean_statistic_gt, y=20, marker='x', color='r', label='original mean-statistic')\n",
    "plt.title('mean statistic empirical distribution of all permutations\\nstatistic = abs[mean(group1) - mean(group2)]')\n",
    "plt.legend()\n",
    "\n",
    "# to find p-val find original t-statistic and find number of t-statistics with equal or greater value\n",
    "mean_stat_num_equal_or_greater = (mean_statistic_perms >= mean_statistic_gt).sum()\n",
    "p_val_mean_perms = mean_stat_num_equal_or_greater / N\n",
    "print(f'original mean statistic = {mean_statistic_gt:.2f}, empirical p-val = {p_val_mean_perms:.5f}')\n",
    "print(f'number of mean statistic empirical values equal or more extreme than original: {mean_stat_num_equal_or_greater}')"
   ]
  },
  {
   "attachments": {},
   "cell_type": "markdown",
   "metadata": {},
   "source": [
    "we are checking for different means, so we use the absolute difference, which is the equivalent of doing a two tailed test."
   ]
  },
  {
   "attachments": {},
   "cell_type": "markdown",
   "metadata": {},
   "source": [
    "# q1.d i)"
   ]
  },
  {
   "cell_type": "code",
   "execution_count": 8,
   "metadata": {},
   "outputs": [
    {
     "name": "stdout",
     "output_type": "stream",
     "text": [
      "check permutation array sum is 1000 * D.sum(), diff is : 0.0\n"
     ]
    }
   ],
   "source": [
    "# calculate 1000 random permutations of group1 and group2 selection\n",
    "# Note the original group1 and group2 musrt be in the final sample\n",
    "\n",
    "M = 1000\n",
    "# we will create a set of all unique selections of group 1\n",
    "# then we will create an ndarray of all samples including the missing group 2 items\n",
    "group1_unique_perms = set()\n",
    "# set is initialised with group 1\n",
    "group1_unique_perms.add(tuple(group1))\n",
    "D_tuple = tuple(D)\n",
    "\n",
    "# use a while loop because sampled perms are not always going to be unique so will\n",
    "# have to go through the loop probably more than M times\n",
    "# Note: sets only allow unique items, so perm is only added if unique\n",
    "while len(group1_unique_perms) < M:\n",
    "    group1_perm = tuple(sorted(random.sample(D_tuple, N_1)))\n",
    "    group1_unique_perms.add(group1_perm)\n",
    "\n",
    "# now add group 2 to the group 1 selections\n",
    "D_group_perms_1000 = np.zeros(shape=(M, N_1 + N_2))\n",
    "for row, group1_tuple_perm in enumerate(group1_unique_perms):\n",
    "    # store group 1 in ndarray\n",
    "    D_group_perms_1000[row, :N_1] = np.asarray(group1_tuple_perm)\n",
    "    # store the remaining items as group 2 in ndarray\n",
    "    i = N_1\n",
    "    for item in D:\n",
    "        if item not in group1_tuple_perm:\n",
    "            D_group_perms_1000[row, i] = item\n",
    "            i += 1\n",
    "\n",
    "print(f'check permutation array sum is {M} * D.sum(), diff is : {M * D.sum() - D_group_perms_1000.sum()}')"
   ]
  },
  {
   "attachments": {},
   "cell_type": "markdown",
   "metadata": {},
   "source": [
    "# q1.d ii)"
   ]
  },
  {
   "cell_type": "code",
   "execution_count": 9,
   "metadata": {},
   "outputs": [
    {
     "name": "stdout",
     "output_type": "stream",
     "text": [
      "original t-statistic = -4.86, empirical p-val = 0.00200\n",
      "number of t-statistic empirical values equal or more extreme than original: 2\n",
      "\n",
      "p-val comparison:\n",
      "0.00039 : original p-val\n",
      "0.00067 : all permutations p-val\n",
      "0.00200 : 1000 permutations p-val\n"
     ]
    },
    {
     "data": {
      "image/png": "[encoded data removed]",
      "text/plain": [
       "<Figure size 432x288 with 1 Axes>"
      ]
     },
     "metadata": {
      "needs_background": "light"
     },
     "output_type": "display_data"
    }
   ],
   "source": [
    "# compute the t-statistic for all group members using the 1000 sampled permutations\n",
    "# Assuming group 1 and group 2 are independent samples\n",
    "\n",
    "N = D_group_perms_1000.shape[0]\n",
    "t_statistic_perms_1000 = np.zeros(N)\n",
    "for row in range(N):\n",
    "    group1_perm = D_group_perms_1000[row, :N_1]\n",
    "    group2_perm = D_group_perms_1000[row, N_1:]\n",
    "    ttest_perm, _ = stats.ttest_ind(group1_perm, group2_perm)\n",
    "    t_statistic_perms_1000[row] = ttest_perm\n",
    "\n",
    "plt.hist(t_statistic_perms_1000, bins=20, label=f't-statistic empirical distribution')\n",
    "plt.scatter(x=t_statistic_gt, y=10, marker='x', color='r', label='original t-statistic')\n",
    "plt.title(f't-statistic empirical distribution of {M} permutations\\nof group1 and group2')\n",
    "plt.legend()\n",
    "\n",
    "# find p-val of 1000 perms vs original p-val and all perms p-val\n",
    "t_stat_1000_num_equal_or_greater = (t_statistic_perms_1000 <= t_statistic_gt).sum()\n",
    "p_val_perms_1000 = t_stat_1000_num_equal_or_greater / N\n",
    "print(f'original t-statistic = {t_statistic_gt:.2f}, empirical p-val = {p_val_perms_1000:.5f}')\n",
    "print(f'number of t-statistic empirical values equal or more extreme than original: {t_stat_1000_num_equal_or_greater}')\n",
    "print(f'\\np-val comparison:\\n{p_val:.5f} : original p-val\\n{p_val_perms:.5f} : all permutations p-val\\n{p_val_perms_1000:.5f} : {M} permutations p-val')"
   ]
  },
  {
   "attachments": {},
   "cell_type": "markdown",
   "metadata": {},
   "source": [
    "We would expect the p-val with 1000 randomly sampled permutations to be higher than with all permutations because with all permutations there were only 2 equal or more extreme t-statistics. So we would expect about 2/3003 randomly sampled permutations to be equal or more extreme, but this value is less than one, so we expect about 1 which is what we see"
   ]
  },
  {
   "attachments": {},
   "cell_type": "markdown",
   "metadata": {},
   "source": [
    "# q1.d iii)"
   ]
  },
  {
   "cell_type": "code",
   "execution_count": 10,
   "metadata": {},
   "outputs": [
    {
     "name": "stdout",
     "output_type": "stream",
     "text": [
      "number of duplicated permutations: 0\n"
     ]
    }
   ],
   "source": [
    "# check there are no duplicate permutations\n",
    "# To check this we will create an array of the same size as D_group_perms_1000, and then\n",
    "# sort all group 1 items and sort all group 2 items. This way any duplicates that have a different\n",
    "# sort order will be flagged as duplicate.\n",
    "# once group 1 and group 2 are sorted we then create a unique array of permutations. Use the shape\n",
    "# to calculate the number of unique permutations\n",
    "\n",
    "# create array of sorted group 1 and sorted group 2 permutations\n",
    "D_group_perms_1000_sorted = np.zeros(shape=D_group_perms_1000.shape)\n",
    "D_group_perms_1000_sorted[:,:N_1] = np.sort(D_group_perms_1000[:,:N_1], axis=1)\n",
    "D_group_perms_1000_sorted[:,N_1:] = np.sort(D_group_perms_1000[:,N_1:], axis=1)\n",
    "\n",
    "# only keep the unique permutations\n",
    "D_group_perms_1000_sorted_unique = np.unique(D_group_perms_1000_sorted, axis=0)\n",
    "\n",
    "# calculate the number of duplicates\n",
    "print(f'number of duplicated permutations: {M - D_group_perms_1000_sorted_unique.shape[0]}')"
   ]
  },
  {
   "attachments": {},
   "cell_type": "markdown",
   "metadata": {},
   "source": [
    "If your sample is large enough, sampling permutations with replacement doesn't change the value of the p-value as long as your samples are independent."
   ]
  }
 ],
 "metadata": {
  "kernelspec": {
   "display_name": "Python 3",
   "language": "python",
   "name": "python3"
  },
  "language_info": {
   "codemirror_mode": {
    "name": "ipython",
    "version": 3
   },
   "file_extension": ".py",
   "mimetype": "text/x-python",
   "name": "python",
   "nbconvert_exporter": "python",
   "pygments_lexer": "ipython3",
   "version": "3.10.2"
  },
  "orig_nbformat": 4,
  "vscode": {
   "interpreter": {
    "hash": "39684f6bc4282e93be36b5aac72d637a326ff246e213af181bce240f019ae372"
   }
  }
 },
 "nbformat": 4,
 "nbformat_minor": 2
}
