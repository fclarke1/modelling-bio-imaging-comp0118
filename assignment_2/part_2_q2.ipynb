{
 "cells": [
  {
   "cell_type": "markdown",
   "metadata": {},
   "source": [
    "# Part 2 - Q2\n",
    "\n",
    "# q2.a)"
   ]
  },
  {
   "cell_type": "code",
   "execution_count": 1,
   "metadata": {},
   "outputs": [],
   "source": [
    "import numpy as np\n",
    "import scipy.stats as stats\n",
    "import scipy.special as special\n",
    "import matplotlib.pyplot as plt\n",
    "from itertools import combinations\n",
    "import random\n",
    "import struct\n",
    "from statsmodels.distributions.empirical_distribution import ECDF\n",
    "\n",
    "rng = np.random.default_rng(seed=22197823)\n",
    "random.seed(22197823)"
   ]
  },
  {
   "cell_type": "code",
   "execution_count": 2,
   "metadata": {},
   "outputs": [],
   "source": [
    "def load_files(filenames):\n",
    "    n = len(filenames)\n",
    "    data = np.zeros(shape=(n, 40, 40, 40))\n",
    "    for im_num, filename in enumerate(filenames):\n",
    "        with open(filename, 'rb') as f:\n",
    "            # Read the binary data in little-endian format\n",
    "            file_data = f.read()\n",
    "            # Convert the binary data to a list of little-endian floats\n",
    "            floats = list(struct.unpack('<' + 'f' * (len(file_data) // 4), file_data))\n",
    "        im = np.array(floats).reshape((40,40,40))\n",
    "        data[im_num] = im\n",
    "    \n",
    "    return data"
   ]
  },
  {
   "cell_type": "code",
   "execution_count": 3,
   "metadata": {},
   "outputs": [],
   "source": [
    "# load all files\n",
    "filename_CPA_nums = ['04', '05', '06', '07', '08', '09', '10', '11']\n",
    "filename_PPA_nums = ['03', '06', '09', '10', '13', '14', '15', '16']\n",
    "filenames_CPA = []\n",
    "filenames_PPA = []\n",
    "filenames_mask = ['data/wm_mask.img']\n",
    "for CPA_num in filename_CPA_nums:\n",
    "    filenames_CPA.append('data/CPA' + CPA_num + '_diffeo_fa.img')\n",
    "for PPA_num in filename_PPA_nums:\n",
    "    filenames_PPA.append('data/PPA' + PPA_num + '_diffeo_fa.img')\n",
    "\n",
    "data_CPA = load_files(filenames_CPA)\n",
    "data_PPA = load_files(filenames_PPA)\n",
    "data_mask = load_files(filenames_mask)[0,:,:,:]"
   ]
  },
  {
   "cell_type": "code",
   "execution_count": 4,
   "metadata": {},
   "outputs": [
    {
     "name": "stdout",
     "output_type": "stream",
     "text": [
      "check the correct roi voxels have been picked. Sum should be zero : 0.0\n"
     ]
    }
   ],
   "source": [
    "# change voxel data into shape nxm where n is number of samples, and m is number of voxels of interest\n",
    "\n",
    "# flatten data mask to use as an index on CPA and PPA data. data_mask_flatten is a 1D array\n",
    "n = data_CPA.shape[0]\n",
    "data_mask_flatten = data_mask.reshape(-1)\n",
    "\n",
    "# flatten CPA and PPA data. They are now of shape nxM where M is number of all voxels (40x40x40)\n",
    "data_CPA_flatten = data_CPA.reshape((n, -1))\n",
    "data_PPA_flatten = data_PPA.reshape((n, -1))\n",
    "\n",
    "# only select the voxels of interest to get an array of shape nxm\n",
    "data_CPA_roi = data_CPA_flatten[:, data_mask_flatten > 0]\n",
    "data_PPA_roi = data_PPA_flatten[:, data_mask_flatten > 0]\n",
    "\n",
    "# check that we have selected the correct voxels. Check this by adding all relevant voxels from\n",
    "# original data array and compare with summing all selected voxels\n",
    "original_direct_sum = np.einsum('ijkl,jkl->i', data_CPA, data_mask).sum() + np.einsum('ijkl,jkl->i', data_PPA, data_mask).sum()\n",
    "converted_sum = data_CPA_roi.sum() + data_PPA_roi.sum()\n",
    "print(f'check the correct roi voxels have been picked. Sum should be zero : {original_direct_sum - converted_sum}')"
   ]
  },
  {
   "cell_type": "code",
   "execution_count": 5,
   "metadata": {},
   "outputs": [],
   "source": [
    "def calculate_t_statistic(Y, X, lmbda, is_max_only=False, Px=None, M=None):\n",
    "    \"\"\"given a Y of many voxels, and X design matrix and contrast vector lmbda return\n",
    "    the t_statistic for all voxels\n",
    "\n",
    "    Args:\n",
    "        Y (ndarray - shape [nxv]): n is number of observations, v is number of voxels\n",
    "        X (ndarray - shape [nx2]): design matrix\n",
    "        lmbda (ndarray - shape [2x1]): contrast vector\n",
    "    \n",
    "    return:\n",
    "        t_statistic (ndarray - shape [v]): t_statistic for each voxel\n",
    "    \"\"\"\n",
    "    if Px is None:\n",
    "        Px = X @ np.linalg.pinv(X.T @ X) @ X.T\n",
    "\n",
    "    d = Px.shape[0]\n",
    "    I = np.identity(d)\n",
    "    Rx = (I - Px)\n",
    "    error_hat = Rx @ Y\n",
    "    \n",
    "    if M is None:\n",
    "        M = np.linalg.pinv(X.T @ X)\n",
    "    \n",
    "    beta = M @ X.T @ Y\n",
    "\n",
    "    numerator = np.einsum('ji,ij->j', error_hat.T, error_hat)\n",
    "    denominator = d - np.linalg.matrix_rank(X)\n",
    "    var_hat = numerator / denominator\n",
    "\n",
    "    S_beta = np.einsum('i,jk->jki', var_hat, M)\n",
    "\n",
    "    numerator_all = (lmbda.T @ beta).flatten()\n",
    "    L = np.einsum('ij,jkl->ikl', lmbda.T, S_beta)\n",
    "    denominator_all = np.sqrt(np.einsum('ijk,jl->k', L, lmbda))\n",
    "\n",
    "    t_statistic = (numerator_all / denominator_all)\n",
    "    \n",
    "    if is_max_only:\n",
    "        return t_statistic.max()\n",
    "    else:\n",
    "        return t_statistic"
   ]
  },
  {
   "cell_type": "code",
   "execution_count": 6,
   "metadata": {},
   "outputs": [
    {
     "name": "stdout",
     "output_type": "stream",
     "text": [
      "rank of X is: 2\n"
     ]
    }
   ],
   "source": [
    "N_1 = 8\n",
    "N_2 = 8\n",
    "# put it in the form of GLM\n",
    "Y = np.vstack((data_CPA_roi, data_PPA_roi))\n",
    "\n",
    "# create design matrix. X[i] is design matrix for voxel i\n",
    "X = np.zeros(shape=(Y.shape[0], 2))\n",
    "X[:N_1, 0] = 1\n",
    "X[N_1:, 1] = 1\n",
    "\n",
    "print(f'rank of X is: {np.linalg.matrix_rank(X)}')"
   ]
  },
  {
   "cell_type": "code",
   "execution_count": 7,
   "metadata": {},
   "outputs": [
    {
     "name": "stdout",
     "output_type": "stream",
     "text": [
      "Max t_statistic on all voxels: 6.53\n"
     ]
    }
   ],
   "source": [
    "# create contrast vector lmbda\n",
    "lmbda = np.array([1,-1])\n",
    "lmbda = lmbda.reshape((2,1))\n",
    "lmbda\n",
    "\n",
    "# calculate the t-statistic\n",
    "t_statistic_roi = calculate_t_statistic(Y, X, lmbda)\n",
    "\n",
    "print(f'Max t_statistic on all voxels: {t_statistic_roi.max():.2f}')"
   ]
  },
  {
   "cell_type": "markdown",
   "metadata": {},
   "source": [
    "# q2.b)"
   ]
  },
  {
   "cell_type": "code",
   "execution_count": 8,
   "metadata": {},
   "outputs": [],
   "source": [
    "# Find all permutations of the indexs of group 1 and group 2, with each group being size 8\n",
    "def find_all_group_perm_idxs(N_1, N_2):\n",
    "    N = int(special.comb(N_1 + N_2, N_1))\n",
    "    group_idxs = np.arange(N_1 + N_2)\n",
    "    group_perms_idxs = np.zeros((N, N_1 + N_2))\n",
    "\n",
    "    for row, group1_perm in enumerate(combinations(group_idxs, N_1)):\n",
    "        # for the group 1 permutation, store it as group 1 for this row in D_group_perm\n",
    "        group1_perm = np.asarray(group1_perm)\n",
    "        group_perms_idxs[row, :N_1] = group1_perm\n",
    "        \n",
    "        # for any item not in the group 1 permutation then add it to group 2\n",
    "        group2_idx = N_1\n",
    "        for item in group_idxs:\n",
    "            if item not in group1_perm:\n",
    "                group_perms_idxs[row, group2_idx] = item\n",
    "                group2_idx += 1\n",
    "    return np.int32(group_perms_idxs)"
   ]
  },
  {
   "cell_type": "code",
   "execution_count": 9,
   "metadata": {},
   "outputs": [
    {
     "data": {
      "text/plain": [
       "(12870, 16)"
      ]
     },
     "execution_count": 9,
     "metadata": {},
     "output_type": "execute_result"
    }
   ],
   "source": [
    "group_perm_idxs = find_all_group_perm_idxs(N_1, N_2)\n",
    "group_perm_idxs.shape\n"
   ]
  },
  {
   "cell_type": "code",
   "execution_count": 10,
   "metadata": {},
   "outputs": [
    {
     "name": "stdout",
     "output_type": "stream",
     "text": [
      "done 0%\n",
      "done 8%\n",
      "done 16%\n",
      "done 23%\n",
      "done 31%\n",
      "done 39%\n",
      "done 47%\n",
      "done 54%\n",
      "done 62%\n",
      "done 70%\n",
      "done 78%\n",
      "done 85%\n",
      "done 93%\n",
      "done 100%\n"
     ]
    }
   ],
   "source": [
    "total_perms_num = group_perm_idxs.shape[0]\n",
    "t_statistic_perms_max = np.zeros(total_perms_num)\n",
    "\n",
    "# pre calculate the inverse matrixes which don't change with each permutation\n",
    "M = np.linalg.pinv(X.T @ X)\n",
    "Px = X @ M @ X.T\n",
    "\n",
    "for row, perm in enumerate(group_perm_idxs):\n",
    "    Y_perm = Y[perm, :]\n",
    "    t_statistic_perms_max[row] = calculate_t_statistic(Y_perm, X, lmbda, is_max_only=True, M=M, Px=Px)\n",
    "    if row % 1000 == 0:\n",
    "        print(f'done {((row / total_perms_num)*100):.0f}%')\n",
    "print('done 100%')"
   ]
  },
  {
   "cell_type": "markdown",
   "metadata": {},
   "source": [
    "# q2.c)"
   ]
  },
  {
   "cell_type": "code",
   "execution_count": 11,
   "metadata": {},
   "outputs": [
    {
     "name": "stdout",
     "output_type": "stream",
     "text": [
      "Total number of max t-statistics : 12870\n",
      "Number of max t-stats equally or more extreme than original labeling : 1182\n",
      "This gives a p-val of : 0.0918\n"
     ]
    }
   ],
   "source": [
    "t_statistic_max_gt = t_statistic_roi.max()\n",
    "num_t_stat_more_extreme = (t_statistic_perms_max >= t_statistic_max_gt).sum()\n",
    "total_t_stat_num = t_statistic_perms_max.shape[0]\n",
    "\n",
    "p_val = num_t_stat_more_extreme / total_t_stat_num\n",
    "\n",
    "print(f'Total number of max t-statistics : {total_t_stat_num}')\n",
    "print(f'Number of max t-stats equally or more extreme than original labeling : {num_t_stat_more_extreme}')\n",
    "print(f'This gives a p-val of : {p_val:.4f}')"
   ]
  },
  {
   "cell_type": "markdown",
   "metadata": {},
   "source": [
    "# q2.d)"
   ]
  },
  {
   "cell_type": "code",
   "execution_count": 12,
   "metadata": {},
   "outputs": [
    {
     "name": "stdout",
     "output_type": "stream",
     "text": [
      "Threshold for maximum t-stat for a corresponding 5% p-value : 6.93826\n"
     ]
    }
   ],
   "source": [
    "# find the 95-th percentile max t-stat to find the threshold for\n",
    "# 5% p-val\n",
    "sorted_max_t_stat = np.sort(t_statistic_perms_max)\n",
    "thresh_idx = int(0.95 * total_t_stat_num)\n",
    "t_stat_thresh_5pct = sorted_max_t_stat[thresh_idx]\n",
    "print(f'Threshold for maximum t-stat for a corresponding 5% p-value : {t_stat_thresh_5pct:.5f}')"
   ]
  },
  {
   "cell_type": "code",
   "execution_count": 13,
   "metadata": {},
   "outputs": [
    {
     "data": {
      "image/png": "[encoded data removed]",
      "text/plain": [
       "<Figure size 640x480 with 2 Axes>"
      ]
     },
     "metadata": {},
     "output_type": "display_data"
    }
   ],
   "source": [
    "fig, axs = plt.subplots(nrows=2, ncols=1)\n",
    "fig.suptitle('max t-statistic of all permutations of group 1 and 2 voxels')\n",
    "\n",
    "axs[0].hist(t_statistic_perms_max, bins=20, label='max t-statistic histogram')\n",
    "axs[0].scatter(x=t_statistic_max_gt, y=200, color='r', marker='x', label='original labeling max t-stat')\n",
    "axs[0].scatter(x=t_stat_thresh_5pct, y=200, color='r', marker='*', label='max t-stat 5% p-value threshold')\n",
    "axs[0].set_title('max t-statistic Histogram')\n",
    "axs[0].legend()\n",
    "\n",
    "t_max_ecdf = ECDF(t_statistic_perms_max)\n",
    "axs[1].plot(np.sort(t_statistic_perms_max), t_max_ecdf(np.sort(t_statistic_perms_max)), label='empirical distribution')\n",
    "axs[1].scatter(t_statistic_max_gt, t_max_ecdf(t_statistic_max_gt), marker='x', color='r', label='original t-statistic')\n",
    "axs[1].scatter(x=t_stat_thresh_5pct, y=t_max_ecdf(t_stat_thresh_5pct), color='r', marker='*', label='max t-stat 5% p-value threshold')\n",
    "axs[1].set_title('max t-statistic Empirical Distribution')\n",
    "axs[1].legend()\n",
    "\n",
    "fig.tight_layout()"
   ]
  }
 ],
 "metadata": {
  "kernelspec": {
   "display_name": "Python 3 (ipykernel)",
   "language": "python",
   "name": "python3"
  },
  "language_info": {
   "codemirror_mode": {
    "name": "ipython",
    "version": 3
   },
   "file_extension": ".py",
   "mimetype": "text/x-python",
   "name": "python",
   "nbconvert_exporter": "python",
   "pygments_lexer": "ipython3",
   "version": "3.9.13"
  },
  "vscode": {
   "interpreter": {
    "hash": "9175f14313f4b35742ea6c52a4ce22cd1fcfedf80e7f8b431e13de372660966e"
   }
  }
 },
 "nbformat": 4,
 "nbformat_minor": 2
}
