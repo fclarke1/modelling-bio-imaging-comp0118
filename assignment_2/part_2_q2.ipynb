{
 "cells": [
  {
   "attachments": {},
   "cell_type": "markdown",
   "metadata": {},
   "source": [
    "# q2.a"
   ]
  },
  {
   "cell_type": "code",
   "execution_count": 5,
   "metadata": {},
   "outputs": [],
   "source": [
    "import numpy as np\n",
    "import scipy.stats as stats\n",
    "import scipy.special as special\n",
    "import matplotlib.pyplot as plt\n",
    "from itertools import combinations\n",
    "import random\n",
    "import struct\n",
    "\n",
    "rng = np.random.default_rng(seed=22197823)\n",
    "random.seed(22197823)"
   ]
  },
  {
   "cell_type": "code",
   "execution_count": 6,
   "metadata": {},
   "outputs": [],
   "source": [
    "def load_files(filenames):\n",
    "    n = len(filenames)\n",
    "    data = np.zeros(shape=(n, 40, 40, 40))\n",
    "    for im_num, filename in enumerate(filenames):\n",
    "        with open(filename, 'rb') as f:\n",
    "            # Read the binary data in little-endian format\n",
    "            file_data = f.read()\n",
    "            # Convert the binary data to a list of little-endian floats\n",
    "            floats = list(struct.unpack('<' + 'f' * (len(file_data) // 4), file_data))\n",
    "        im = np.array(floats).reshape((40,40,40))\n",
    "        data[im_num] = im\n",
    "    \n",
    "    return data"
   ]
  },
  {
   "cell_type": "code",
   "execution_count": 7,
   "metadata": {},
   "outputs": [],
   "source": [
    "# load all files\n",
    "filename_CPA_nums = ['04', '05', '06', '07', '08', '09', '10', '11']\n",
    "filename_PPA_nums = ['03', '06', '09', '10', '13', '14', '15', '16']\n",
    "filenames_CPA = []\n",
    "filenames_PPA = []\n",
    "filenames_mask = ['data/wm_mask.img']\n",
    "for CPA_num in filename_CPA_nums:\n",
    "    filenames_CPA.append('data/CPA' + CPA_num + '_diffeo_fa.img')\n",
    "for PPA_num in filename_PPA_nums:\n",
    "    filenames_PPA.append('data/PPA' + PPA_num + '_diffeo_fa.img')\n",
    "\n",
    "data_CPA = load_files(filenames_CPA)\n",
    "data_PPA = load_files(filenames_PPA)\n",
    "data_mask = load_files(filenames_mask)[0,:,:,:]"
   ]
  },
  {
   "cell_type": "code",
   "execution_count": 8,
   "metadata": {},
   "outputs": [
    {
     "name": "stdout",
     "output_type": "stream",
     "text": [
      "check the correct roi voxels have been picked. Sum should be zero : 0.0\n"
     ]
    }
   ],
   "source": [
    "# change voxel data into shape nxm where n is number of samples, and m is number of voxels of interest\n",
    "\n",
    "# flatten data mask to use as an index on CPA and PPA data. data_mask_flatten is a 1D array\n",
    "n = data_CPA.shape[0]\n",
    "data_mask_flatten = data_mask.reshape(-1)\n",
    "\n",
    "# flatten CPA and PPA data. They are now of shape nxM where M is number of all voxels (40x40x40)\n",
    "data_CPA_flatten = data_CPA.reshape((n, -1))\n",
    "data_PPA_flatten = data_PPA.reshape((n, -1))\n",
    "\n",
    "# only select the voxels of interest to get an array of shape nxm\n",
    "data_CPA_roi = data_CPA_flatten[:, data_mask_flatten > 0]\n",
    "data_PPA_roi = data_PPA_flatten[:, data_mask_flatten > 0]\n",
    "\n",
    "# check that we have selected the correct voxels. Check this by adding all relevant voxels from\n",
    "# original data array and compare with summing all selected voxels\n",
    "original_direct_sum = np.einsum('ijkl,jkl->i', data_CPA, data_mask).sum() + np.einsum('ijkl,jkl->i', data_PPA, data_mask).sum()\n",
    "converted_sum = data_CPA_roi.sum() + data_PPA_roi.sum()\n",
    "print(f'check the correct roi voxels have been picked. Sum should be zero : {original_direct_sum - converted_sum}')"
   ]
  },
  {
   "cell_type": "code",
   "execution_count": 15,
   "metadata": {},
   "outputs": [],
   "source": [
    "# Calculate t-statistic for 2 independent samples (CPA vs PPA) on each voxel\n",
    "t_statistic, _ = stats.ttest_ind(data_CPA_roi, data_PPA_roi, axis=0)"
   ]
  },
  {
   "cell_type": "code",
   "execution_count": 36,
   "metadata": {},
   "outputs": [
    {
     "data": {
      "text/plain": [
       "(19908, 16, 2)"
      ]
     },
     "execution_count": 36,
     "metadata": {},
     "output_type": "execute_result"
    }
   ],
   "source": [
    "N_1 = 8\n",
    "N_2 = 8\n",
    "# put it in the form of GLM, and transpose so leading dimension is voxel\n",
    "Y = np.vstack((data_CPA_roi, data_PPA_roi))\n",
    "Y = np.swapaxes(Y, 0, 1)\n",
    "\n",
    "# create design matrix. X[i] is design matrix for voxel i\n",
    "X = np.zeros(shape=(Y.shape[0], Y.shape[1], 2))\n",
    "X[:, :N_1, 0] = 1\n",
    "X[:, N_1:, 1] = 1\n",
    "\n"
   ]
  }
 ],
 "metadata": {
  "kernelspec": {
   "display_name": "Python 3",
   "language": "python",
   "name": "python3"
  },
  "language_info": {
   "codemirror_mode": {
    "name": "ipython",
    "version": 3
   },
   "file_extension": ".py",
   "mimetype": "text/x-python",
   "name": "python",
   "nbconvert_exporter": "python",
   "pygments_lexer": "ipython3",
   "version": "3.10.2"
  },
  "orig_nbformat": 4,
  "vscode": {
   "interpreter": {
    "hash": "39684f6bc4282e93be36b5aac72d637a326ff246e213af181bce240f019ae372"
   }
  }
 },
 "nbformat": 4,
 "nbformat_minor": 2
}
